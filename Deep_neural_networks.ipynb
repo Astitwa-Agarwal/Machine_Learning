{
  "nbformat": 4,
  "nbformat_minor": 0,
  "metadata": {
    "colab": {
      "name": "Untitled0.ipynb",
      "provenance": [],
      "authorship_tag": "ABX9TyPzppBGXG1TgBtoXfyRPcvm",
      "include_colab_link": true
    },
    "kernelspec": {
      "name": "python3",
      "display_name": "Python 3"
    }
  },
  "cells": [
    {
      "cell_type": "markdown",
      "metadata": {
        "id": "view-in-github",
        "colab_type": "text"
      },
      "source": [
        "<a href=\"https://colab.research.google.com/github/Astitwa-Agarwal/Machine_Learning/blob/master/Deep_neural_networks.ipynb\" target=\"_parent\"><img src=\"https://colab.research.google.com/assets/colab-badge.svg\" alt=\"Open In Colab\"/></a>"
      ]
    },
    {
      "cell_type": "code",
      "metadata": {
        "id": "ZlaUiAveG7Jy",
        "colab_type": "code",
        "colab": {}
      },
      "source": [
        "import tensorflow as tf"
      ],
      "execution_count": 0,
      "outputs": []
    },
    {
      "cell_type": "code",
      "metadata": {
        "id": "6XAOEKBiHvlt",
        "colab_type": "code",
        "colab": {}
      },
      "source": [
        "import numpy as np"
      ],
      "execution_count": 0,
      "outputs": []
    },
    {
      "cell_type": "code",
      "metadata": {
        "id": "_AEypJC8Qwz0",
        "colab_type": "code",
        "colab": {}
      },
      "source": [
        "from tensorflow import keras"
      ],
      "execution_count": 0,
      "outputs": []
    },
    {
      "cell_type": "code",
      "metadata": {
        "id": "pjIqpoajlB7Z",
        "colab_type": "code",
        "colab": {}
      },
      "source": [
        "import matplotlib.pyplot as plt"
      ],
      "execution_count": 0,
      "outputs": []
    },
    {
      "cell_type": "code",
      "metadata": {
        "id": "c_6RD_zGlO65",
        "colab_type": "code",
        "colab": {}
      },
      "source": [
        "z = np.linspace(-5, 5, 200)"
      ],
      "execution_count": 0,
      "outputs": []
    },
    {
      "cell_type": "code",
      "metadata": {
        "id": "OiXBVo_iItbp",
        "colab_type": "code",
        "colab": {}
      },
      "source": [
        "import os\n",
        "PROJECT_ROOT_DIR = \".\"\n",
        "CHAPTER_ID = \"deep\"\n",
        "IMAGES_PATH = os.path.join(PROJECT_ROOT_DIR, \"images\", CHAPTER_ID)\n",
        "os.makedirs(IMAGES_PATH, exist_ok=True)\n",
        "\n",
        "def save_fig(fig_id, tight_layout=True, fig_extension=\"png\", resolution=300):\n",
        "    path = os.path.join(IMAGES_PATH, fig_id + \".\" + fig_extension)\n",
        "    print(\"Saving figure\", fig_id)\n",
        "    if tight_layout:\n",
        "        plt.tight_layout()\n",
        "    plt.savefig(path, format=fig_extension, dpi=resolution)"
      ],
      "execution_count": 0,
      "outputs": []
    },
    {
      "cell_type": "code",
      "metadata": {
        "id": "iLQNaafKkxLn",
        "colab_type": "code",
        "colab": {}
      },
      "source": [
        "def leaky_relu(z, alpha=0.01):\n",
        "    return np.maximum(alpha*z, z)"
      ],
      "execution_count": 0,
      "outputs": []
    },
    {
      "cell_type": "code",
      "metadata": {
        "id": "LuaxCjRbk653",
        "colab_type": "code",
        "colab": {
          "base_uri": "https://localhost:8080/",
          "height": 315
        },
        "outputId": "9222f9ce-78c7-406a-b5b5-a04d3ca8d024"
      },
      "source": [
        "plt.plot(z, leaky_relu(z, 0.05), \"b-\", linewidth=2)\n",
        "plt.plot([-5, 5], [0, 0], 'k-')\n",
        "plt.plot([0, 0], [-0.5, 4.2], 'k-')\n",
        "plt.grid(True)\n",
        "props = dict(facecolor='black', shrink=0.1)\n",
        "plt.annotate('Leak', xytext=(-3.5, 0.5), xy=(-5, -0.2), arrowprops=props, fontsize=14, ha=\"center\")\n",
        "plt.title(\"Leaky ReLU activation function\", fontsize=14)\n",
        "plt.axis([-5, 5, -0.5, 4.2])\n",
        "\n",
        "save_fig(\"leaky_relu_plot\")\n",
        "plt.show()"
      ],
      "execution_count": 285,
      "outputs": [
        {
          "output_type": "stream",
          "text": [
            "Saving figure leaky_relu_plot\n"
          ],
          "name": "stdout"
        },
        {
          "output_type": "display_data",
          "data": {
            "image/png": "[encoded data removed]",
            "text/plain": [
              "<Figure size 432x288 with 1 Axes>"
            ]
          },
          "metadata": {
            "tags": [],
            "needs_background": "light"
          }
        }
      ]
    },
    {
      "cell_type": "code",
      "metadata": {
        "id": "Z-h8yiAZQqnw",
        "colab_type": "code",
        "colab": {
          "base_uri": "https://localhost:8080/",
          "height": 490
        },
        "outputId": "e78e82e3-ee2b-4374-b28d-d4478036ca0c"
      },
      "source": [
        "[name for name in dir(keras.initializers) if not name.startswith(\"_\")]"
      ],
      "execution_count": 286,
      "outputs": [
        {
          "output_type": "execute_result",
          "data": {
            "text/plain": [
              "['Constant',\n",
              " 'GlorotNormal',\n",
              " 'GlorotUniform',\n",
              " 'Identity',\n",
              " 'Initializer',\n",
              " 'Ones',\n",
              " 'Orthogonal',\n",
              " 'RandomNormal',\n",
              " 'RandomUniform',\n",
              " 'TruncatedNormal',\n",
              " 'VarianceScaling',\n",
              " 'Zeros',\n",
              " 'constant',\n",
              " 'deserialize',\n",
              " 'get',\n",
              " 'glorot_normal',\n",
              " 'glorot_uniform',\n",
              " 'he_normal',\n",
              " 'he_uniform',\n",
              " 'identity',\n",
              " 'lecun_normal',\n",
              " 'lecun_uniform',\n",
              " 'ones',\n",
              " 'orthogonal',\n",
              " 'serialize',\n",
              " 'zeros']"
            ]
          },
          "metadata": {
            "tags": []
          },
          "execution_count": 286
        }
      ]
    },
    {
      "cell_type": "code",
      "metadata": {
        "id": "D9ygznpgRYtw",
        "colab_type": "code",
        "colab": {
          "base_uri": "https://localhost:8080/",
          "height": 35
        },
        "outputId": "847170e0-85c3-4be3-b4ad-7c0a68a19f9e"
      },
      "source": [
        "keras.layers.Dense(10, activation=\"relu\", kernel_initializer=\"he_normal\")"
      ],
      "execution_count": 287,
      "outputs": [
        {
          "output_type": "execute_result",
          "data": {
            "text/plain": [
              "<tensorflow.python.keras.layers.core.Dense at 0x7f64967c2fd0>"
            ]
          },
          "metadata": {
            "tags": []
          },
          "execution_count": 287
        }
      ]
    },
    {
      "cell_type": "code",
      "metadata": {
        "id": "A2yeFxDNRchz",
        "colab_type": "code",
        "colab": {
          "base_uri": "https://localhost:8080/",
          "height": 35
        },
        "outputId": "74378c6a-3006-4af1-bf8d-083c05da8c13"
      },
      "source": [
        "init = keras.initializers.VarianceScaling(scale=2., mode='fan_avg',\n",
        "                                          distribution='uniform')\n",
        "keras.layers.Dense(10, activation=\"relu\", kernel_initializer=init)"
      ],
      "execution_count": 288,
      "outputs": [
        {
          "output_type": "execute_result",
          "data": {
            "text/plain": [
              "<tensorflow.python.keras.layers.core.Dense at 0x7f64964602e8>"
            ]
          },
          "metadata": {
            "tags": []
          },
          "execution_count": 288
        }
      ]
    },
    {
      "cell_type": "code",
      "metadata": {
        "id": "7uelHNuPlxWk",
        "colab_type": "code",
        "colab": {}
      },
      "source": [
        "(X_train_full, y_train_full), (X_test, y_test) = keras.datasets.fashion_mnist.load_data()\n",
        "X_train_full = X_train_full / 255.0\n",
        "X_test = X_test / 255.0\n",
        "X_valid, X_train = X_train_full[:5000], X_train_full[5000:]\n",
        "y_valid, y_train = y_train_full[:5000], y_train_full[5000:]"
      ],
      "execution_count": 0,
      "outputs": []
    },
    {
      "cell_type": "code",
      "metadata": {
        "id": "t8JEhiLSl1tX",
        "colab_type": "code",
        "colab": {}
      },
      "source": [
        "tf.random.set_seed(42)\n",
        "np.random.seed(42)\n",
        "\n",
        "model = keras.models.Sequential([\n",
        "    keras.layers.Flatten(input_shape=[28, 28]),\n",
        "    keras.layers.Dense(300, kernel_initializer=\"he_normal\"),\n",
        "    keras.layers.LeakyReLU(),\n",
        "    keras.layers.Dense(100, kernel_initializer=\"he_normal\"),\n",
        "    keras.layers.LeakyReLU(),\n",
        "    keras.layers.Dense(10, activation=\"softmax\")\n",
        "])"
      ],
      "execution_count": 0,
      "outputs": []
    },
    {
      "cell_type": "code",
      "metadata": {
        "id": "7V89nFlhl7O4",
        "colab_type": "code",
        "colab": {}
      },
      "source": [
        "model.compile(loss=\"sparse_categorical_crossentropy\",\n",
        "              optimizer=keras.optimizers.SGD(lr=1e-3),\n",
        "              metrics=[\"accuracy\"])"
      ],
      "execution_count": 0,
      "outputs": []
    },
    {
      "cell_type": "code",
      "metadata": {
        "id": "7q5LNXWTmAo6",
        "colab_type": "code",
        "colab": {
          "base_uri": "https://localhost:8080/",
          "height": 381
        },
        "outputId": "f81ced70-5c07-48e7-c9d5-971be2e2f7a7"
      },
      "source": [
        "history = model.fit(X_train, y_train, epochs=10,\n",
        "                    validation_data=(X_valid, y_valid))"
      ],
      "execution_count": 292,
      "outputs": [
        {
          "output_type": "stream",
          "text": [
            "Epoch 1/10\n",
            "1719/1719 [==============================] - 4s 2ms/step - loss: 1.2819 - accuracy: 0.6229 - val_loss: 0.8886 - val_accuracy: 0.7160\n",
            "Epoch 2/10\n",
            "1719/1719 [==============================] - 4s 2ms/step - loss: 0.7955 - accuracy: 0.7362 - val_loss: 0.7130 - val_accuracy: 0.7656\n",
            "Epoch 3/10\n",
            "1719/1719 [==============================] - 4s 2ms/step - loss: 0.6816 - accuracy: 0.7721 - val_loss: 0.6427 - val_accuracy: 0.7898\n",
            "Epoch 4/10\n",
            "1719/1719 [==============================] - 4s 2ms/step - loss: 0.6217 - accuracy: 0.7944 - val_loss: 0.5900 - val_accuracy: 0.8066\n",
            "Epoch 5/10\n",
            "1719/1719 [==============================] - 4s 2ms/step - loss: 0.5832 - accuracy: 0.8075 - val_loss: 0.5582 - val_accuracy: 0.8200\n",
            "Epoch 6/10\n",
            "1719/1719 [==============================] - 4s 2ms/step - loss: 0.5553 - accuracy: 0.8157 - val_loss: 0.5350 - val_accuracy: 0.8236\n",
            "Epoch 7/10\n",
            "1719/1719 [==============================] - 4s 2ms/step - loss: 0.5338 - accuracy: 0.8224 - val_loss: 0.5157 - val_accuracy: 0.8304\n",
            "Epoch 8/10\n",
            "1719/1719 [==============================] - 4s 2ms/step - loss: 0.5172 - accuracy: 0.8273 - val_loss: 0.5079 - val_accuracy: 0.8286\n",
            "Epoch 9/10\n",
            "1719/1719 [==============================] - 4s 2ms/step - loss: 0.5040 - accuracy: 0.8288 - val_loss: 0.4895 - val_accuracy: 0.8390\n",
            "Epoch 10/10\n",
            "1719/1719 [==============================] - 4s 2ms/step - loss: 0.4924 - accuracy: 0.8321 - val_loss: 0.4816 - val_accuracy: 0.8394\n"
          ],
          "name": "stdout"
        }
      ]
    },
    {
      "cell_type": "code",
      "metadata": {
        "id": "UsemdxA9mQEm",
        "colab_type": "code",
        "colab": {}
      },
      "source": [
        "def elu(z, alpha=1):\n",
        "    return np.where(z < 0, alpha * (np.exp(z) - 1), z)"
      ],
      "execution_count": 0,
      "outputs": []
    },
    {
      "cell_type": "code",
      "metadata": {
        "id": "6fPGotpLml9G",
        "colab_type": "code",
        "colab": {
          "base_uri": "https://localhost:8080/",
          "height": 315
        },
        "outputId": "9a9ce491-7655-4969-aee2-c4b2fd0a945e"
      },
      "source": [
        "plt.plot(z, elu(z), \"b-\", linewidth=2)\n",
        "plt.plot([-5, 5], [0, 0], 'k-')\n",
        "plt.plot([-5, 5], [-1, -1], 'k--')\n",
        "plt.plot([0, 0], [-2.2, 3.2], 'k-')\n",
        "plt.grid(True)\n",
        "plt.title(r\"ELU activation function ($\\alpha=1$)\", fontsize=14)\n",
        "plt.axis([-5, 5, -2.2, 3.2])\n",
        "\n",
        "save_fig(\"elu_plot\")\n",
        "plt.show()"
      ],
      "execution_count": 294,
      "outputs": [
        {
          "output_type": "stream",
          "text": [
            "Saving figure elu_plot\n"
          ],
          "name": "stdout"
        },
        {
          "output_type": "display_data",
          "data": {
            "image/png": "[encoded data removed]",
            "text/plain": [
              "<Figure size 432x288 with 1 Axes>"
            ]
          },
          "metadata": {
            "tags": [],
            "needs_background": "light"
          }
        }
      ]
    },
    {
      "cell_type": "code",
      "metadata": {
        "id": "3F4jqGo-nVxk",
        "colab_type": "code",
        "colab": {}
      },
      "source": [
        "from scipy.special import erfc\n",
        "alpha_0_1 = -np.sqrt(2 / np.pi) / (erfc(1/np.sqrt(2)) * np.exp(1/2) - 1)\n",
        "scale_0_1 = (1 - erfc(1 / np.sqrt(2)) * np.sqrt(np.e)) * np.sqrt(2 * np.pi) * (2 * erfc(np.sqrt(2))*np.e**2 + np.pi*erfc(1/np.sqrt(2))**2*np.e - 2*(2+np.pi)*erfc(1/np.sqrt(2))*np.sqrt(np.e)+np.pi+2)**(-1/2)\n"
      ],
      "execution_count": 0,
      "outputs": []
    },
    {
      "cell_type": "code",
      "metadata": {
        "id": "kfPQb7Qkne92",
        "colab_type": "code",
        "colab": {}
      },
      "source": [
        "def selu(z, scale=scale_0_1, alpha=alpha_0_1):\n",
        "    return scale * elu(z, alpha)"
      ],
      "execution_count": 0,
      "outputs": []
    },
    {
      "cell_type": "code",
      "metadata": {
        "id": "oOtx2unDni9D",
        "colab_type": "code",
        "colab": {
          "base_uri": "https://localhost:8080/",
          "height": 315
        },
        "outputId": "134a49b6-f575-4c5f-e48e-d2bcf85cf444"
      },
      "source": [
        "plt.plot(z, selu(z), \"b-\", linewidth=2)\n",
        "plt.plot([-5, 5], [0, 0], 'k-')\n",
        "plt.plot([-5, 5], [-1.758, -1.758], 'k--')\n",
        "plt.plot([0, 0], [-2.2, 3.2], 'k-')\n",
        "plt.grid(True)\n",
        "plt.title(\"SELU activation function\", fontsize=14)\n",
        "plt.axis([-5, 5, -2.2, 3.2])\n",
        "\n",
        "save_fig(\"selu_plot\")\n",
        "plt.show()"
      ],
      "execution_count": 297,
      "outputs": [
        {
          "output_type": "stream",
          "text": [
            "Saving figure selu_plot\n"
          ],
          "name": "stdout"
        },
        {
          "output_type": "display_data",
          "data": {
            "image/png": "[encoded data removed]",
            "text/plain": [
              "<Figure size 432x288 with 1 Axes>"
            ]
          },
          "metadata": {
            "tags": [],
            "needs_background": "light"
          }
        }
      ]
    },
    {
      "cell_type": "code",
      "metadata": {
        "id": "iT6fayPPnmdx",
        "colab_type": "code",
        "colab": {
          "base_uri": "https://localhost:8080/",
          "height": 199
        },
        "outputId": "0ebe418d-a5e4-4f43-cab5-57df3322ab40"
      },
      "source": [
        "np.random.seed(42)\n",
        "Z = np.random.normal(size=(500, 100)) \n",
        "for layer in range(1000):\n",
        "    W = np.random.normal(size=(100, 100), scale=np.sqrt(1 / 100)) \n",
        "    Z = selu(np.dot(Z, W))\n",
        "    means = np.mean(Z, axis=0).mean()\n",
        "    stds = np.std(Z, axis=0).mean()\n",
        "    if layer % 100 == 0:\n",
        "        print(\"Layer {}: mean {:.2f}, std deviation {:.2f}\".format(layer, means, stds))"
      ],
      "execution_count": 298,
      "outputs": [
        {
          "output_type": "stream",
          "text": [
            "Layer 0: mean -0.00, std deviation 1.00\n",
            "Layer 100: mean 0.02, std deviation 0.96\n",
            "Layer 200: mean 0.01, std deviation 0.90\n",
            "Layer 300: mean -0.02, std deviation 0.92\n",
            "Layer 400: mean 0.05, std deviation 0.89\n",
            "Layer 500: mean 0.01, std deviation 0.93\n",
            "Layer 600: mean 0.02, std deviation 0.92\n",
            "Layer 700: mean -0.02, std deviation 0.90\n",
            "Layer 800: mean 0.05, std deviation 0.83\n",
            "Layer 900: mean 0.02, std deviation 1.00\n"
          ],
          "name": "stdout"
        }
      ]
    },
    {
      "cell_type": "code",
      "metadata": {
        "id": "XMXZh-b_pJ0q",
        "colab_type": "code",
        "colab": {
          "base_uri": "https://localhost:8080/",
          "height": 35
        },
        "outputId": "c10887bf-02f8-4cb9-8047-5713df6d5bbc"
      },
      "source": [
        "keras.layers.Dense(10, activation=\"selu\",\n",
        "                   kernel_initializer=\"lecun_normal\")"
      ],
      "execution_count": 299,
      "outputs": [
        {
          "output_type": "execute_result",
          "data": {
            "text/plain": [
              "<tensorflow.python.keras.layers.core.Dense at 0x7f6496460908>"
            ]
          },
          "metadata": {
            "tags": []
          },
          "execution_count": 299
        }
      ]
    },
    {
      "cell_type": "code",
      "metadata": {
        "id": "f5y0CbgzpLGi",
        "colab_type": "code",
        "colab": {}
      },
      "source": [
        "np.random.seed(42)\n",
        "tf.random.set_seed(42)"
      ],
      "execution_count": 0,
      "outputs": []
    },
    {
      "cell_type": "code",
      "metadata": {
        "id": "vMtUndrEpRgT",
        "colab_type": "code",
        "colab": {}
      },
      "source": [
        "model = keras.models.Sequential()\n",
        "model.add(keras.layers.Flatten(input_shape=[28, 28]))\n",
        "model.add(keras.layers.Dense(300, activation=\"selu\",\n",
        "                             kernel_initializer=\"lecun_normal\"))\n",
        "for layer in range(99):\n",
        "    model.add(keras.layers.Dense(100, activation=\"selu\",\n",
        "                                 kernel_initializer=\"lecun_normal\"))\n",
        "model.add(keras.layers.Dense(10, activation=\"softmax\"))"
      ],
      "execution_count": 0,
      "outputs": []
    },
    {
      "cell_type": "code",
      "metadata": {
        "id": "gZm-TqIepb1c",
        "colab_type": "code",
        "colab": {}
      },
      "source": [
        "model.compile(loss=\"sparse_categorical_crossentropy\",\n",
        "              optimizer=keras.optimizers.SGD(lr=1e-3),\n",
        "              metrics=[\"accuracy\"])"
      ],
      "execution_count": 0,
      "outputs": []
    },
    {
      "cell_type": "code",
      "metadata": {
        "id": "w7FmXpA0pd0Q",
        "colab_type": "code",
        "colab": {}
      },
      "source": [
        "pixel_means = X_train.mean(axis=0, keepdims=True)\n",
        "pixel_stds = X_train.std(axis=0, keepdims=True)\n",
        "X_train_scaled = (X_train - pixel_means) / pixel_stds\n",
        "X_valid_scaled = (X_valid - pixel_means) / pixel_stds\n",
        "X_test_scaled = (X_test - pixel_means) / pixel_stds"
      ],
      "execution_count": 0,
      "outputs": []
    },
    {
      "cell_type": "code",
      "metadata": {
        "id": "wYDtWbnjpiHB",
        "colab_type": "code",
        "outputId": "e3b44af8-0775-4a9e-f233-dd0092403915",
        "colab": {
          "base_uri": "https://localhost:8080/",
          "height": 199
        }
      },
      "source": [
        "history = model.fit(X_train_scaled, y_train, epochs=5,\n",
        "                    validation_data=(X_valid_scaled, y_valid))"
      ],
      "execution_count": 304,
      "outputs": [
        {
          "output_type": "stream",
          "text": [
            "Epoch 1/5\n",
            "1719/1719 [==============================] - 21s 12ms/step - loss: 1.1443 - accuracy: 0.5659 - val_loss: 0.7506 - val_accuracy: 0.7396\n",
            "Epoch 2/5\n",
            "1719/1719 [==============================] - 20s 12ms/step - loss: 0.7053 - accuracy: 0.7490 - val_loss: 0.6196 - val_accuracy: 0.7786\n",
            "Epoch 3/5\n",
            "1719/1719 [==============================] - 20s 12ms/step - loss: 0.6105 - accuracy: 0.7781 - val_loss: 0.5958 - val_accuracy: 0.7906\n",
            "Epoch 4/5\n",
            "1719/1719 [==============================] - 20s 12ms/step - loss: 0.5915 - accuracy: 0.7897 - val_loss: 0.6093 - val_accuracy: 0.7866\n",
            "Epoch 5/5\n",
            "1719/1719 [==============================] - 21s 12ms/step - loss: 0.5307 - accuracy: 0.8133 - val_loss: 0.4888 - val_accuracy: 0.8248\n"
          ],
          "name": "stdout"
        }
      ]
    },
    {
      "cell_type": "code",
      "metadata": {
        "id": "jJ7ztLnysXSF",
        "colab_type": "code",
        "colab": {}
      },
      "source": [
        "model = keras.models.Sequential([\n",
        "                                 keras.layers.Flatten(input_shape=[28, 28]),\n",
        "    keras.layers.BatchNormalization(),\n",
        "    keras.layers.Dense(300, activation=\"relu\"),\n",
        "    keras.layers.BatchNormalization(),\n",
        "    keras.layers.Dense(100, activation=\"relu\"),\n",
        "    keras.layers.BatchNormalization(),\n",
        "    keras.layers.Dense(10, activation=\"softmax\")\n",
        "])"
      ],
      "execution_count": 0,
      "outputs": []
    },
    {
      "cell_type": "code",
      "metadata": {
        "id": "ca-K0Glfs7at",
        "colab_type": "code",
        "outputId": "a9df8429-2409-4542-a271-83e3e18728a3",
        "colab": {
          "base_uri": "https://localhost:8080/",
          "height": 417
        }
      },
      "source": [
        "model.summary()"
      ],
      "execution_count": 306,
      "outputs": [
        {
          "output_type": "stream",
          "text": [
            "Model: \"sequential_42\"\n",
            "_________________________________________________________________\n",
            "Layer (type)                 Output Shape              Param #   \n",
            "=================================================================\n",
            "flatten_38 (Flatten)         (None, 784)               0         \n",
            "_________________________________________________________________\n",
            "batch_normalization_24 (Batc (None, 784)               3136      \n",
            "_________________________________________________________________\n",
            "dense_647 (Dense)            (None, 300)               235500    \n",
            "_________________________________________________________________\n",
            "batch_normalization_25 (Batc (None, 300)               1200      \n",
            "_________________________________________________________________\n",
            "dense_648 (Dense)            (None, 100)               30100     \n",
            "_________________________________________________________________\n",
            "batch_normalization_26 (Batc (None, 100)               400       \n",
            "_________________________________________________________________\n",
            "dense_649 (Dense)            (None, 10)                1010      \n",
            "=================================================================\n",
            "Total params: 271,346\n",
            "Trainable params: 268,978\n",
            "Non-trainable params: 2,368\n",
            "_________________________________________________________________\n"
          ],
          "name": "stdout"
        }
      ]
    },
    {
      "cell_type": "code",
      "metadata": {
        "id": "ZK525tiQtAwm",
        "colab_type": "code",
        "outputId": "27dcb720-852d-45ed-c60e-8913d65a8f61",
        "colab": {
          "base_uri": "https://localhost:8080/",
          "height": 90
        }
      },
      "source": [
        "bn1 = model.layers[1]\n",
        "[(var.name, var.trainable) for var in bn1.variables]"
      ],
      "execution_count": 307,
      "outputs": [
        {
          "output_type": "execute_result",
          "data": {
            "text/plain": [
              "[('batch_normalization_24/gamma:0', True),\n",
              " ('batch_normalization_24/beta:0', True),\n",
              " ('batch_normalization_24/moving_mean:0', False),\n",
              " ('batch_normalization_24/moving_variance:0', False)]"
            ]
          },
          "metadata": {
            "tags": []
          },
          "execution_count": 307
        }
      ]
    },
    {
      "cell_type": "code",
      "metadata": {
        "id": "Lo7-xCIptVsi",
        "colab_type": "code",
        "outputId": "2bd72dc0-25d9-4c01-8470-8e69260818c8",
        "colab": {
          "base_uri": "https://localhost:8080/",
          "height": 54
        }
      },
      "source": [
        "bn1.updates"
      ],
      "execution_count": 308,
      "outputs": [
        {
          "output_type": "execute_result",
          "data": {
            "text/plain": [
              "[<tf.Operation 'cond_8/Identity' type=Identity>,\n",
              " <tf.Operation 'cond_9/Identity' type=Identity>]"
            ]
          },
          "metadata": {
            "tags": []
          },
          "execution_count": 308
        }
      ]
    },
    {
      "cell_type": "code",
      "metadata": {
        "id": "TryXEl2qtgQ0",
        "colab_type": "code",
        "colab": {}
      },
      "source": [
        "model.compile(loss=\"sparse_categorical_crossentropy\",\n",
        "              optimizer=keras.optimizers.SGD(lr=1e-3),\n",
        "              metrics=[\"accuracy\"])"
      ],
      "execution_count": 0,
      "outputs": []
    },
    {
      "cell_type": "code",
      "metadata": {
        "id": "kL_6-sLAthk1",
        "colab_type": "code",
        "outputId": "243badfa-ae72-4959-94fc-6eca49a4f897",
        "colab": {
          "base_uri": "https://localhost:8080/",
          "height": 381
        }
      },
      "source": [
        "history = model.fit(X_train, y_train, epochs=10,\n",
        "                    validation_data=(X_valid, y_valid))"
      ],
      "execution_count": 310,
      "outputs": [
        {
          "output_type": "stream",
          "text": [
            "Epoch 1/10\n",
            "1719/1719 [==============================] - 6s 4ms/step - loss: 0.8750 - accuracy: 0.7124 - val_loss: 0.5525 - val_accuracy: 0.8230\n",
            "Epoch 2/10\n",
            "1719/1719 [==============================] - 6s 4ms/step - loss: 0.5754 - accuracy: 0.8030 - val_loss: 0.4725 - val_accuracy: 0.8472\n",
            "Epoch 3/10\n",
            "1719/1719 [==============================] - 6s 4ms/step - loss: 0.5190 - accuracy: 0.8204 - val_loss: 0.4375 - val_accuracy: 0.8546\n",
            "Epoch 4/10\n",
            "1719/1719 [==============================] - 6s 3ms/step - loss: 0.4827 - accuracy: 0.8325 - val_loss: 0.4153 - val_accuracy: 0.8600\n",
            "Epoch 5/10\n",
            "1719/1719 [==============================] - 6s 4ms/step - loss: 0.4565 - accuracy: 0.8408 - val_loss: 0.3998 - val_accuracy: 0.8646\n",
            "Epoch 6/10\n",
            "1719/1719 [==============================] - 6s 4ms/step - loss: 0.4398 - accuracy: 0.8473 - val_loss: 0.3868 - val_accuracy: 0.8698\n",
            "Epoch 7/10\n",
            "1719/1719 [==============================] - 6s 4ms/step - loss: 0.4242 - accuracy: 0.8515 - val_loss: 0.3765 - val_accuracy: 0.8702\n",
            "Epoch 8/10\n",
            "1719/1719 [==============================] - 6s 4ms/step - loss: 0.4143 - accuracy: 0.8537 - val_loss: 0.3714 - val_accuracy: 0.8744\n",
            "Epoch 9/10\n",
            "1719/1719 [==============================] - 6s 4ms/step - loss: 0.4024 - accuracy: 0.8582 - val_loss: 0.3633 - val_accuracy: 0.8752\n",
            "Epoch 10/10\n",
            "1719/1719 [==============================] - 6s 4ms/step - loss: 0.3914 - accuracy: 0.8624 - val_loss: 0.3575 - val_accuracy: 0.8754\n"
          ],
          "name": "stdout"
        }
      ]
    },
    {
      "cell_type": "code",
      "metadata": {
        "id": "tOkHemgvuuXP",
        "colab_type": "code",
        "colab": {}
      },
      "source": [
        "model = keras.models.Sequential([\n",
        "    keras.layers.Flatten(input_shape=[28, 28]),\n",
        "    keras.layers.BatchNormalization(),\n",
        "    keras.layers.Dense(300, use_bias=False),\n",
        "    keras.layers.BatchNormalization(),\n",
        "    keras.layers.Activation(\"relu\"),\n",
        "    keras.layers.Dense(100, use_bias=False),\n",
        "    keras.layers.BatchNormalization(),\n",
        "    keras.layers.Activation(\"relu\"),\n",
        "    keras.layers.Dense(10, activation=\"softmax\")\n",
        "])"
      ],
      "execution_count": 0,
      "outputs": []
    },
    {
      "cell_type": "code",
      "metadata": {
        "id": "y05q0iPeux3q",
        "colab_type": "code",
        "colab": {}
      },
      "source": [
        "model.compile(loss=\"sparse_categorical_crossentropy\",\n",
        "              optimizer=keras.optimizers.SGD(lr=1e-3),\n",
        "              metrics=[\"accuracy\"])"
      ],
      "execution_count": 0,
      "outputs": []
    },
    {
      "cell_type": "code",
      "metadata": {
        "id": "eeEvWGOju1vI",
        "colab_type": "code",
        "outputId": "cdf87b0a-671d-4072-cc90-c9a16a19f588",
        "colab": {
          "base_uri": "https://localhost:8080/",
          "height": 381
        }
      },
      "source": [
        "history = model.fit(X_train, y_train, epochs=10,\n",
        "                    validation_data=(X_valid, y_valid))"
      ],
      "execution_count": 313,
      "outputs": [
        {
          "output_type": "stream",
          "text": [
            "Epoch 1/10\n",
            "1719/1719 [==============================] - 6s 4ms/step - loss: 1.0317 - accuracy: 0.6757 - val_loss: 0.6767 - val_accuracy: 0.7812\n",
            "Epoch 2/10\n",
            "1719/1719 [==============================] - 6s 4ms/step - loss: 0.6790 - accuracy: 0.7793 - val_loss: 0.5566 - val_accuracy: 0.8180\n",
            "Epoch 3/10\n",
            "1719/1719 [==============================] - 6s 4ms/step - loss: 0.5960 - accuracy: 0.8037 - val_loss: 0.5007 - val_accuracy: 0.8362\n",
            "Epoch 4/10\n",
            "1719/1719 [==============================] - 6s 4ms/step - loss: 0.5447 - accuracy: 0.8192 - val_loss: 0.4666 - val_accuracy: 0.8448\n",
            "Epoch 5/10\n",
            "1719/1719 [==============================] - 6s 4ms/step - loss: 0.5109 - accuracy: 0.8279 - val_loss: 0.4434 - val_accuracy: 0.8532\n",
            "Epoch 6/10\n",
            "1719/1719 [==============================] - 7s 4ms/step - loss: 0.4898 - accuracy: 0.8337 - val_loss: 0.4263 - val_accuracy: 0.8546\n",
            "Epoch 7/10\n",
            "1719/1719 [==============================] - 6s 4ms/step - loss: 0.4712 - accuracy: 0.8397 - val_loss: 0.4130 - val_accuracy: 0.8566\n",
            "Epoch 8/10\n",
            "1719/1719 [==============================] - 6s 3ms/step - loss: 0.4560 - accuracy: 0.8439 - val_loss: 0.4034 - val_accuracy: 0.8608\n",
            "Epoch 9/10\n",
            "1719/1719 [==============================] - 6s 4ms/step - loss: 0.4441 - accuracy: 0.8475 - val_loss: 0.3943 - val_accuracy: 0.8638\n",
            "Epoch 10/10\n",
            "1719/1719 [==============================] - 6s 4ms/step - loss: 0.4333 - accuracy: 0.8504 - val_loss: 0.3875 - val_accuracy: 0.8660\n"
          ],
          "name": "stdout"
        }
      ]
    },
    {
      "cell_type": "code",
      "metadata": {
        "id": "pBiEaxFE-q8L",
        "colab_type": "code",
        "colab": {}
      },
      "source": [
        "oprimizer = keras.optimizers.SGD(clipvalue=1.0)\n",
        "optimizer = keras.optimizers.SGD(clipnorm=1.0)"
      ],
      "execution_count": 0,
      "outputs": []
    },
    {
      "cell_type": "code",
      "metadata": {
        "id": "Gs6a3OZq-2pN",
        "colab_type": "code",
        "colab": {}
      },
      "source": [
        "def split_dataset(X, y):\n",
        "    y_5_or_6 = (y == 5) | (y == 6) \n",
        "    y_A = y[~y_5_or_6]\n",
        "    y_A[y_A > 6] -= 2 \n",
        "    y_B = (y[y_5_or_6] == 6).astype(np.float32) \n",
        "    return ((X[~y_5_or_6], y_A),\n",
        "            (X[y_5_or_6], y_B))\n",
        "\n",
        "(X_train_A, y_train_A), (X_train_B, y_train_B) = split_dataset(X_train, y_train)\n",
        "(X_valid_A, y_valid_A), (X_valid_B, y_valid_B) = split_dataset(X_valid, y_valid)\n",
        "(X_test_A, y_test_A), (X_test_B, y_test_B) = split_dataset(X_test, y_test)\n",
        "X_train_B = X_train_B[:200]\n",
        "y_train_B = y_train_B[:200]"
      ],
      "execution_count": 0,
      "outputs": []
    },
    {
      "cell_type": "code",
      "metadata": {
        "id": "jaeyYVST_AIs",
        "colab_type": "code",
        "outputId": "bf7198df-86e8-4738-919b-1844150ac70e",
        "colab": {
          "base_uri": "https://localhost:8080/",
          "height": 35
        }
      },
      "source": [
        "X_train_A.shape"
      ],
      "execution_count": 316,
      "outputs": [
        {
          "output_type": "execute_result",
          "data": {
            "text/plain": [
              "(43986, 28, 28)"
            ]
          },
          "metadata": {
            "tags": []
          },
          "execution_count": 316
        }
      ]
    },
    {
      "cell_type": "code",
      "metadata": {
        "id": "5t07cFGN_HC_",
        "colab_type": "code",
        "outputId": "0c5017f7-ff2d-4a3a-9550-00095925dc59",
        "colab": {
          "base_uri": "https://localhost:8080/",
          "height": 35
        }
      },
      "source": [
        "X_train_B.shape"
      ],
      "execution_count": 317,
      "outputs": [
        {
          "output_type": "execute_result",
          "data": {
            "text/plain": [
              "(200, 28, 28)"
            ]
          },
          "metadata": {
            "tags": []
          },
          "execution_count": 317
        }
      ]
    },
    {
      "cell_type": "code",
      "metadata": {
        "id": "I0AAXAdD_QiG",
        "colab_type": "code",
        "outputId": "8ffa5102-f3f5-4475-b39c-f54cefe1f797",
        "colab": {
          "base_uri": "https://localhost:8080/",
          "height": 54
        }
      },
      "source": [
        "y_train_A[:30]"
      ],
      "execution_count": 318,
      "outputs": [
        {
          "output_type": "execute_result",
          "data": {
            "text/plain": [
              "array([4, 0, 5, 7, 7, 7, 4, 4, 3, 4, 0, 1, 6, 3, 4, 3, 2, 6, 5, 3, 4, 5,\n",
              "       1, 3, 4, 2, 0, 6, 7, 1], dtype=uint8)"
            ]
          },
          "metadata": {
            "tags": []
          },
          "execution_count": 318
        }
      ]
    },
    {
      "cell_type": "code",
      "metadata": {
        "id": "qLhcczYg_TrF",
        "colab_type": "code",
        "outputId": "4517daeb-1ecd-4810-c732-4162c4ba0022",
        "colab": {
          "base_uri": "https://localhost:8080/",
          "height": 54
        }
      },
      "source": [
        "y_train_B[:30]"
      ],
      "execution_count": 319,
      "outputs": [
        {
          "output_type": "execute_result",
          "data": {
            "text/plain": [
              "array([1., 1., 0., 0., 0., 0., 1., 1., 1., 0., 0., 1., 1., 0., 0., 0., 0.,\n",
              "       0., 0., 1., 1., 0., 0., 1., 1., 0., 1., 1., 1., 1.], dtype=float32)"
            ]
          },
          "metadata": {
            "tags": []
          },
          "execution_count": 319
        }
      ]
    },
    {
      "cell_type": "code",
      "metadata": {
        "id": "8DcYZ32e_W2S",
        "colab_type": "code",
        "colab": {}
      },
      "source": [
        "np.random.seed(42)\n",
        "tf.random.set_seed(42)"
      ],
      "execution_count": 0,
      "outputs": []
    },
    {
      "cell_type": "code",
      "metadata": {
        "id": "vv02FU5f_f9R",
        "colab_type": "code",
        "colab": {}
      },
      "source": [
        "model_A = keras.models.Sequential()\n",
        "model_A.add(keras.layers.Flatten(input_shape=[28,28]))\n",
        "for n_hidden in (300, 100, 50, 50, 50):\n",
        "  model_A.add(keras.layers.Dense(n_hidden, activation=\"selu\"))\n",
        "model_A.add(keras.layers.Dense(8, activation=\"softmax\"))"
      ],
      "execution_count": 0,
      "outputs": []
    },
    {
      "cell_type": "code",
      "metadata": {
        "id": "Yz6x_LhgAu-K",
        "colab_type": "code",
        "colab": {}
      },
      "source": [
        "model_A.compile(loss=\"sparse_categorical_crossentropy\",\n",
        "                optimizer=keras.optimizers.SGD(lr=1e-3),\n",
        "                metrics=[\"accuracy\"])"
      ],
      "execution_count": 0,
      "outputs": []
    },
    {
      "cell_type": "code",
      "metadata": {
        "id": "evgllbooAzOc",
        "colab_type": "code",
        "outputId": "3367270d-6d92-45d7-c14e-70e3bfb66e55",
        "colab": {
          "base_uri": "https://localhost:8080/",
          "height": 745
        }
      },
      "source": [
        "history = model_A.fit(X_train_A, y_train_A, epochs=20,\n",
        "                    validation_data=(X_valid_A, y_valid_A))"
      ],
      "execution_count": 323,
      "outputs": [
        {
          "output_type": "stream",
          "text": [
            "Epoch 1/20\n",
            "1375/1375 [==============================] - 4s 3ms/step - loss: 0.5926 - accuracy: 0.8103 - val_loss: 0.3890 - val_accuracy: 0.8677\n",
            "Epoch 2/20\n",
            "1375/1375 [==============================] - 3s 2ms/step - loss: 0.3523 - accuracy: 0.8786 - val_loss: 0.3289 - val_accuracy: 0.8824\n",
            "Epoch 3/20\n",
            "1375/1375 [==============================] - 3s 2ms/step - loss: 0.3170 - accuracy: 0.8895 - val_loss: 0.3013 - val_accuracy: 0.8991\n",
            "Epoch 4/20\n",
            "1375/1375 [==============================] - 3s 2ms/step - loss: 0.2972 - accuracy: 0.8974 - val_loss: 0.2892 - val_accuracy: 0.9013\n",
            "Epoch 5/20\n",
            "1375/1375 [==============================] - 3s 2ms/step - loss: 0.2834 - accuracy: 0.9022 - val_loss: 0.2774 - val_accuracy: 0.9066\n",
            "Epoch 6/20\n",
            "1375/1375 [==============================] - 3s 2ms/step - loss: 0.2729 - accuracy: 0.9063 - val_loss: 0.2733 - val_accuracy: 0.9071\n",
            "Epoch 7/20\n",
            "1375/1375 [==============================] - 3s 2ms/step - loss: 0.2641 - accuracy: 0.9092 - val_loss: 0.2720 - val_accuracy: 0.9091\n",
            "Epoch 8/20\n",
            "1375/1375 [==============================] - 3s 2ms/step - loss: 0.2572 - accuracy: 0.9125 - val_loss: 0.2589 - val_accuracy: 0.9141\n",
            "Epoch 9/20\n",
            "1375/1375 [==============================] - 3s 2ms/step - loss: 0.2518 - accuracy: 0.9135 - val_loss: 0.2562 - val_accuracy: 0.9143\n",
            "Epoch 10/20\n",
            "1375/1375 [==============================] - 3s 2ms/step - loss: 0.2468 - accuracy: 0.9154 - val_loss: 0.2540 - val_accuracy: 0.9165\n",
            "Epoch 11/20\n",
            "1375/1375 [==============================] - 3s 2ms/step - loss: 0.2422 - accuracy: 0.9178 - val_loss: 0.2494 - val_accuracy: 0.9155\n",
            "Epoch 12/20\n",
            "1375/1375 [==============================] - 3s 2ms/step - loss: 0.2382 - accuracy: 0.9188 - val_loss: 0.2511 - val_accuracy: 0.9128\n",
            "Epoch 13/20\n",
            "1375/1375 [==============================] - 3s 2ms/step - loss: 0.2350 - accuracy: 0.9197 - val_loss: 0.2446 - val_accuracy: 0.9163\n",
            "Epoch 14/20\n",
            "1375/1375 [==============================] - 3s 2ms/step - loss: 0.2315 - accuracy: 0.9213 - val_loss: 0.2413 - val_accuracy: 0.9178\n",
            "Epoch 15/20\n",
            "1375/1375 [==============================] - 3s 2ms/step - loss: 0.2287 - accuracy: 0.9214 - val_loss: 0.2446 - val_accuracy: 0.9193\n",
            "Epoch 16/20\n",
            "1375/1375 [==============================] - 3s 2ms/step - loss: 0.2254 - accuracy: 0.9224 - val_loss: 0.2386 - val_accuracy: 0.9195\n",
            "Epoch 17/20\n",
            "1375/1375 [==============================] - 3s 2ms/step - loss: 0.2230 - accuracy: 0.9232 - val_loss: 0.2405 - val_accuracy: 0.9175\n",
            "Epoch 18/20\n",
            "1375/1375 [==============================] - 3s 2ms/step - loss: 0.2201 - accuracy: 0.9243 - val_loss: 0.2429 - val_accuracy: 0.9158\n",
            "Epoch 19/20\n",
            "1375/1375 [==============================] - 3s 2ms/step - loss: 0.2178 - accuracy: 0.9251 - val_loss: 0.2328 - val_accuracy: 0.9205\n",
            "Epoch 20/20\n",
            "1375/1375 [==============================] - 3s 2ms/step - loss: 0.2156 - accuracy: 0.9262 - val_loss: 0.2332 - val_accuracy: 0.9208\n"
          ],
          "name": "stdout"
        }
      ]
    },
    {
      "cell_type": "code",
      "metadata": {
        "id": "zZZl4X8jBe98",
        "colab_type": "code",
        "colab": {}
      },
      "source": [
        "model_A.save(\"my_model_A.h5\")"
      ],
      "execution_count": 0,
      "outputs": []
    },
    {
      "cell_type": "code",
      "metadata": {
        "id": "xXIreO0pDVx3",
        "colab_type": "code",
        "colab": {}
      },
      "source": [
        "model_B = keras.models.Sequential()\n",
        "model_B.add(keras.layers.Flatten(input_shape=[28,28]))\n",
        "for n_hidden in (300, 100, 50, 50, 50):\n",
        "  model_B.add(keras.layers.Dense(n_hidden, activation=\"selu\"))\n",
        "model_B.add(keras.layers.Dense(1, activation=\"sigmoid\"))"
      ],
      "execution_count": 0,
      "outputs": []
    },
    {
      "cell_type": "code",
      "metadata": {
        "id": "Zgapff7SE0Ur",
        "colab_type": "code",
        "colab": {}
      },
      "source": [
        "model_B.compile(loss=\"binary_crossentropy\",\n",
        "                optimizer=keras.optimizers.SGD(lr=1e-3),\n",
        "                metrics=[\"accuracy\"])"
      ],
      "execution_count": 0,
      "outputs": []
    },
    {
      "cell_type": "code",
      "metadata": {
        "id": "ghxXAyJTE-pr",
        "colab_type": "code",
        "outputId": "1f4b16b2-9d14-4152-f30c-53dfaf84df93",
        "colab": {
          "base_uri": "https://localhost:8080/",
          "height": 745
        }
      },
      "source": [
        "history = model_B.fit(X_train_B, y_train_B, epochs=20,\n",
        "                      validation_data=(X_valid_B, y_valid_B))"
      ],
      "execution_count": 327,
      "outputs": [
        {
          "output_type": "stream",
          "text": [
            "Epoch 1/20\n",
            "7/7 [==============================] - 0s 23ms/step - loss: 0.9573 - accuracy: 0.4650 - val_loss: 0.6314 - val_accuracy: 0.6004\n",
            "Epoch 2/20\n",
            "7/7 [==============================] - 0s 11ms/step - loss: 0.5692 - accuracy: 0.7450 - val_loss: 0.4784 - val_accuracy: 0.8529\n",
            "Epoch 3/20\n",
            "7/7 [==============================] - 0s 53ms/step - loss: 0.4503 - accuracy: 0.8650 - val_loss: 0.4102 - val_accuracy: 0.8945\n",
            "Epoch 4/20\n",
            "7/7 [==============================] - 0s 12ms/step - loss: 0.3879 - accuracy: 0.8950 - val_loss: 0.3647 - val_accuracy: 0.9178\n",
            "Epoch 5/20\n",
            "7/7 [==============================] - 0s 11ms/step - loss: 0.3435 - accuracy: 0.9250 - val_loss: 0.3300 - val_accuracy: 0.9320\n",
            "Epoch 6/20\n",
            "7/7 [==============================] - 0s 12ms/step - loss: 0.3081 - accuracy: 0.9300 - val_loss: 0.3019 - val_accuracy: 0.9402\n",
            "Epoch 7/20\n",
            "7/7 [==============================] - 0s 11ms/step - loss: 0.2800 - accuracy: 0.9350 - val_loss: 0.2804 - val_accuracy: 0.9422\n",
            "Epoch 8/20\n",
            "7/7 [==============================] - 0s 11ms/step - loss: 0.2564 - accuracy: 0.9450 - val_loss: 0.2606 - val_accuracy: 0.9473\n",
            "Epoch 9/20\n",
            "7/7 [==============================] - 0s 11ms/step - loss: 0.2362 - accuracy: 0.9550 - val_loss: 0.2428 - val_accuracy: 0.9523\n",
            "Epoch 10/20\n",
            "7/7 [==============================] - 0s 11ms/step - loss: 0.2188 - accuracy: 0.9600 - val_loss: 0.2281 - val_accuracy: 0.9544\n",
            "Epoch 11/20\n",
            "7/7 [==============================] - 0s 12ms/step - loss: 0.2036 - accuracy: 0.9700 - val_loss: 0.2150 - val_accuracy: 0.9584\n",
            "Epoch 12/20\n",
            "7/7 [==============================] - 0s 11ms/step - loss: 0.1898 - accuracy: 0.9700 - val_loss: 0.2036 - val_accuracy: 0.9584\n",
            "Epoch 13/20\n",
            "7/7 [==============================] - 0s 11ms/step - loss: 0.1773 - accuracy: 0.9750 - val_loss: 0.1931 - val_accuracy: 0.9615\n",
            "Epoch 14/20\n",
            "7/7 [==============================] - 0s 12ms/step - loss: 0.1668 - accuracy: 0.9800 - val_loss: 0.1838 - val_accuracy: 0.9635\n",
            "Epoch 15/20\n",
            "7/7 [==============================] - 0s 12ms/step - loss: 0.1570 - accuracy: 0.9900 - val_loss: 0.1746 - val_accuracy: 0.9686\n",
            "Epoch 16/20\n",
            "7/7 [==============================] - 0s 12ms/step - loss: 0.1481 - accuracy: 0.9900 - val_loss: 0.1674 - val_accuracy: 0.9686\n",
            "Epoch 17/20\n",
            "7/7 [==============================] - 0s 11ms/step - loss: 0.1406 - accuracy: 0.9900 - val_loss: 0.1604 - val_accuracy: 0.9706\n",
            "Epoch 18/20\n",
            "7/7 [==============================] - 0s 11ms/step - loss: 0.1334 - accuracy: 0.9900 - val_loss: 0.1539 - val_accuracy: 0.9706\n",
            "Epoch 19/20\n",
            "7/7 [==============================] - 0s 12ms/step - loss: 0.1268 - accuracy: 0.9900 - val_loss: 0.1482 - val_accuracy: 0.9716\n",
            "Epoch 20/20\n",
            "7/7 [==============================] - 0s 12ms/step - loss: 0.1208 - accuracy: 0.9900 - val_loss: 0.1431 - val_accuracy: 0.9716\n"
          ],
          "name": "stdout"
        }
      ]
    },
    {
      "cell_type": "code",
      "metadata": {
        "id": "Nvr5rWegFNGA",
        "colab_type": "code",
        "outputId": "5b551d01-a550-4b34-efd3-2c716fde3879",
        "colab": {
          "base_uri": "https://localhost:8080/",
          "height": 490
        }
      },
      "source": [
        "model.summary()"
      ],
      "execution_count": 328,
      "outputs": [
        {
          "output_type": "stream",
          "text": [
            "Model: \"sequential_43\"\n",
            "_________________________________________________________________\n",
            "Layer (type)                 Output Shape              Param #   \n",
            "=================================================================\n",
            "flatten_39 (Flatten)         (None, 784)               0         \n",
            "_________________________________________________________________\n",
            "batch_normalization_27 (Batc (None, 784)               3136      \n",
            "_________________________________________________________________\n",
            "dense_650 (Dense)            (None, 300)               235200    \n",
            "_________________________________________________________________\n",
            "batch_normalization_28 (Batc (None, 300)               1200      \n",
            "_________________________________________________________________\n",
            "activation_8 (Activation)    (None, 300)               0         \n",
            "_________________________________________________________________\n",
            "dense_651 (Dense)            (None, 100)               30000     \n",
            "_________________________________________________________________\n",
            "batch_normalization_29 (Batc (None, 100)               400       \n",
            "_________________________________________________________________\n",
            "activation_9 (Activation)    (None, 100)               0         \n",
            "_________________________________________________________________\n",
            "dense_652 (Dense)            (None, 10)                1010      \n",
            "=================================================================\n",
            "Total params: 270,946\n",
            "Trainable params: 268,578\n",
            "Non-trainable params: 2,368\n",
            "_________________________________________________________________\n"
          ],
          "name": "stdout"
        }
      ]
    },
    {
      "cell_type": "code",
      "metadata": {
        "id": "WWWmJfb8FbQX",
        "colab_type": "code",
        "colab": {}
      },
      "source": [
        "model_A = keras.models.load_model(\"my_model_A.h5\")\n",
        "model_B_on_A = keras.models.Sequential(model_A.layers[:-1])\n",
        "model_B_on_A.add(keras.layers.Dense(1, activation=\"sigmoid\"))"
      ],
      "execution_count": 0,
      "outputs": []
    },
    {
      "cell_type": "code",
      "metadata": {
        "id": "DwaPOLMIFfSM",
        "colab_type": "code",
        "colab": {}
      },
      "source": [
        "model_A_clone = keras.models.clone_model(model_A)\n",
        "model_A_clone.set_weights(model_A.get_weights())"
      ],
      "execution_count": 0,
      "outputs": []
    },
    {
      "cell_type": "code",
      "metadata": {
        "id": "zaHf2gO6FmtH",
        "colab_type": "code",
        "colab": {}
      },
      "source": [
        "for layer in model_B_on_A.layers[:-1]:\n",
        "    layer.trainable = False\n",
        "\n",
        "model_B_on_A.compile(loss=\"binary_crossentropy\",\n",
        "                     optimizer=keras.optimizers.SGD(lr=1e-3),\n",
        "                     metrics=[\"accuracy\"])"
      ],
      "execution_count": 0,
      "outputs": []
    },
    {
      "cell_type": "code",
      "metadata": {
        "id": "29a5tHSjFoLX",
        "colab_type": "code",
        "outputId": "9763433c-4dd8-4823-ac11-578070711677",
        "colab": {
          "base_uri": "https://localhost:8080/",
          "height": 745
        }
      },
      "source": [
        "history = model_B_on_A.fit(X_train_B, y_train_B, epochs=4,\n",
        "                           validation_data=(X_valid_B, y_valid_B))\n",
        "\n",
        "for layer in model_B_on_A.layers[:-1]:\n",
        "    layer.trainable = True\n",
        "\n",
        "model_B_on_A.compile(loss=\"binary_crossentropy\",\n",
        "                     optimizer=keras.optimizers.SGD(lr=1e-3),\n",
        "                     metrics=[\"accuracy\"])\n",
        "history = model_B_on_A.fit(X_train_B, y_train_B, epochs=16,\n",
        "                           validation_data=(X_valid_B, y_valid_B))"
      ],
      "execution_count": 332,
      "outputs": [
        {
          "output_type": "stream",
          "text": [
            "Epoch 1/4\n",
            "7/7 [==============================] - 0s 23ms/step - loss: 0.5759 - accuracy: 0.6550 - val_loss: 0.5812 - val_accuracy: 0.6379\n",
            "Epoch 2/4\n",
            "7/7 [==============================] - 0s 11ms/step - loss: 0.5396 - accuracy: 0.6750 - val_loss: 0.5439 - val_accuracy: 0.6826\n",
            "Epoch 3/4\n",
            "7/7 [==============================] - 0s 11ms/step - loss: 0.5029 - accuracy: 0.7250 - val_loss: 0.5121 - val_accuracy: 0.7150\n",
            "Epoch 4/4\n",
            "7/7 [==============================] - 0s 11ms/step - loss: 0.4716 - accuracy: 0.7550 - val_loss: 0.4835 - val_accuracy: 0.7333\n",
            "Epoch 1/16\n",
            "7/7 [==============================] - 0s 22ms/step - loss: 0.3938 - accuracy: 0.8150 - val_loss: 0.3452 - val_accuracy: 0.8641\n",
            "Epoch 2/16\n",
            "7/7 [==============================] - 0s 11ms/step - loss: 0.2787 - accuracy: 0.9350 - val_loss: 0.2600 - val_accuracy: 0.9270\n",
            "Epoch 3/16\n",
            "7/7 [==============================] - 0s 12ms/step - loss: 0.2079 - accuracy: 0.9650 - val_loss: 0.2111 - val_accuracy: 0.9554\n",
            "Epoch 4/16\n",
            "7/7 [==============================] - 0s 11ms/step - loss: 0.1670 - accuracy: 0.9800 - val_loss: 0.1793 - val_accuracy: 0.9696\n",
            "Epoch 5/16\n",
            "7/7 [==============================] - 0s 11ms/step - loss: 0.1398 - accuracy: 0.9800 - val_loss: 0.1564 - val_accuracy: 0.9757\n",
            "Epoch 6/16\n",
            "7/7 [==============================] - 0s 11ms/step - loss: 0.1198 - accuracy: 0.9950 - val_loss: 0.1396 - val_accuracy: 0.9797\n",
            "Epoch 7/16\n",
            "7/7 [==============================] - 0s 11ms/step - loss: 0.1051 - accuracy: 0.9950 - val_loss: 0.1268 - val_accuracy: 0.9838\n",
            "Epoch 8/16\n",
            "7/7 [==============================] - 0s 12ms/step - loss: 0.0938 - accuracy: 0.9950 - val_loss: 0.1166 - val_accuracy: 0.9858\n",
            "Epoch 9/16\n",
            "7/7 [==============================] - 0s 11ms/step - loss: 0.0848 - accuracy: 1.0000 - val_loss: 0.1068 - val_accuracy: 0.9888\n",
            "Epoch 10/16\n",
            "7/7 [==============================] - 0s 13ms/step - loss: 0.0763 - accuracy: 1.0000 - val_loss: 0.1002 - val_accuracy: 0.9899\n",
            "Epoch 11/16\n",
            "7/7 [==============================] - 0s 11ms/step - loss: 0.0704 - accuracy: 1.0000 - val_loss: 0.0941 - val_accuracy: 0.9899\n",
            "Epoch 12/16\n",
            "7/7 [==============================] - 0s 11ms/step - loss: 0.0649 - accuracy: 1.0000 - val_loss: 0.0890 - val_accuracy: 0.9899\n",
            "Epoch 13/16\n",
            "7/7 [==============================] - 0s 11ms/step - loss: 0.0602 - accuracy: 1.0000 - val_loss: 0.0841 - val_accuracy: 0.9899\n",
            "Epoch 14/16\n",
            "7/7 [==============================] - 0s 11ms/step - loss: 0.0559 - accuracy: 1.0000 - val_loss: 0.0804 - val_accuracy: 0.9899\n",
            "Epoch 15/16\n",
            "7/7 [==============================] - 0s 11ms/step - loss: 0.0525 - accuracy: 1.0000 - val_loss: 0.0770 - val_accuracy: 0.9899\n",
            "Epoch 16/16\n",
            "7/7 [==============================] - 0s 12ms/step - loss: 0.0496 - accuracy: 1.0000 - val_loss: 0.0740 - val_accuracy: 0.9899\n"
          ],
          "name": "stdout"
        }
      ]
    },
    {
      "cell_type": "code",
      "metadata": {
        "id": "gig8zuqQFz7e",
        "colab_type": "code",
        "outputId": "6b7642a0-f6e7-40ce-e359-ae489e8bef4d",
        "colab": {
          "base_uri": "https://localhost:8080/",
          "height": 54
        }
      },
      "source": [
        "model_B.evaluate(X_test_B, y_test_B)"
      ],
      "execution_count": 333,
      "outputs": [
        {
          "output_type": "stream",
          "text": [
            "63/63 [==============================] - 0s 1ms/step - loss: 0.1408 - accuracy: 0.9705\n"
          ],
          "name": "stdout"
        },
        {
          "output_type": "execute_result",
          "data": {
            "text/plain": [
              "[0.14084088802337646, 0.9704999923706055]"
            ]
          },
          "metadata": {
            "tags": []
          },
          "execution_count": 333
        }
      ]
    },
    {
      "cell_type": "code",
      "metadata": {
        "id": "24i6-h79GBQp",
        "colab_type": "code",
        "outputId": "cc404584-2492-49a2-a951-fcd55fa06baf",
        "colab": {
          "base_uri": "https://localhost:8080/",
          "height": 54
        }
      },
      "source": [
        "model_B_on_A.evaluate(X_test_B, y_test_B)"
      ],
      "execution_count": 334,
      "outputs": [
        {
          "output_type": "stream",
          "text": [
            "63/63 [==============================] - 0s 1ms/step - loss: 0.0682 - accuracy: 0.9930\n"
          ],
          "name": "stdout"
        },
        {
          "output_type": "execute_result",
          "data": {
            "text/plain": [
              "[0.06821806728839874, 0.9929999709129333]"
            ]
          },
          "metadata": {
            "tags": []
          },
          "execution_count": 334
        }
      ]
    },
    {
      "cell_type": "code",
      "metadata": {
        "id": "5_Ra0AAaJ3Nc",
        "colab_type": "code",
        "colab": {}
      },
      "source": [
        "optimizer = keras.optimizers.SGD(lr=0.01, decay=1e-4)"
      ],
      "execution_count": 0,
      "outputs": []
    },
    {
      "cell_type": "code",
      "metadata": {
        "id": "7bT9La1FJ4no",
        "colab_type": "code",
        "colab": {}
      },
      "source": [
        "model = keras.models.Sequential([\n",
        "    keras.layers.Flatten(input_shape=[28, 28]),\n",
        "    keras.layers.Dense(300, activation=\"selu\", kernel_initializer=\"lecun_normal\"),\n",
        "    keras.layers.Dense(100, activation=\"selu\", kernel_initializer=\"lecun_normal\"),\n",
        "    keras.layers.Dense(10, activation=\"softmax\")\n",
        "])\n",
        "model.compile(loss=\"sparse_categorical_crossentropy\", optimizer=optimizer, metrics=[\"accuracy\"])"
      ],
      "execution_count": 0,
      "outputs": []
    },
    {
      "cell_type": "code",
      "metadata": {
        "id": "3Zfi30vJKGx3",
        "colab_type": "code",
        "colab": {
          "base_uri": "https://localhost:8080/",
          "height": 381
        },
        "outputId": "360546db-a911-4a1a-bdc3-b4ff760264a3"
      },
      "source": [
        "n_epochs = 10\n",
        "history = model.fit(X_train_scaled, y_train, epochs=n_epochs,\n",
        "                    validation_data=(X_valid_scaled, y_valid))"
      ],
      "execution_count": 337,
      "outputs": [
        {
          "output_type": "stream",
          "text": [
            "Epoch 1/10\n",
            "1719/1719 [==============================] - 4s 2ms/step - loss: 0.4855 - accuracy: 0.8305 - val_loss: 0.4029 - val_accuracy: 0.8596\n",
            "Epoch 2/10\n",
            "1719/1719 [==============================] - 4s 2ms/step - loss: 0.3781 - accuracy: 0.8660 - val_loss: 0.3716 - val_accuracy: 0.8728\n",
            "Epoch 3/10\n",
            "1719/1719 [==============================] - 4s 2ms/step - loss: 0.3458 - accuracy: 0.8769 - val_loss: 0.3752 - val_accuracy: 0.8752\n",
            "Epoch 4/10\n",
            "1719/1719 [==============================] - 4s 2ms/step - loss: 0.3251 - accuracy: 0.8829 - val_loss: 0.3502 - val_accuracy: 0.8800\n",
            "Epoch 5/10\n",
            "1719/1719 [==============================] - 4s 2ms/step - loss: 0.3103 - accuracy: 0.8889 - val_loss: 0.3449 - val_accuracy: 0.8780\n",
            "Epoch 6/10\n",
            "1719/1719 [==============================] - 5s 3ms/step - loss: 0.2966 - accuracy: 0.8934 - val_loss: 0.3414 - val_accuracy: 0.8824\n",
            "Epoch 7/10\n",
            "1719/1719 [==============================] - 4s 3ms/step - loss: 0.2868 - accuracy: 0.8972 - val_loss: 0.3358 - val_accuracy: 0.8870\n",
            "Epoch 8/10\n",
            "1719/1719 [==============================] - 4s 2ms/step - loss: 0.2778 - accuracy: 0.9012 - val_loss: 0.3410 - val_accuracy: 0.8838\n",
            "Epoch 9/10\n",
            "1719/1719 [==============================] - 4s 2ms/step - loss: 0.2698 - accuracy: 0.9023 - val_loss: 0.3295 - val_accuracy: 0.8876\n",
            "Epoch 10/10\n",
            "1719/1719 [==============================] - 4s 2ms/step - loss: 0.2629 - accuracy: 0.9052 - val_loss: 0.3264 - val_accuracy: 0.8884\n"
          ],
          "name": "stdout"
        }
      ]
    },
    {
      "cell_type": "code",
      "metadata": {
        "id": "YjOdKxx0KVxS",
        "colab_type": "code",
        "colab": {
          "base_uri": "https://localhost:8080/",
          "height": 296
        },
        "outputId": "6993a37a-3a1c-4823-d40e-0103ce42f076"
      },
      "source": [
        "learning_rate = 0.01\n",
        "decay = 1e-4\n",
        "batch_size = 32\n",
        "n_steps_per_epoch = len(X_train) // batch_size\n",
        "epochs = np.arange(n_epochs)\n",
        "lrs = learning_rate / (1 + decay * epochs * n_steps_per_epoch)\n",
        "\n",
        "plt.plot(epochs, lrs,  \"o-\")\n",
        "plt.axis([0, n_epochs - 1, 0, 0.01])\n",
        "plt.xlabel(\"Epoch\")\n",
        "plt.ylabel(\"Learning Rate\")\n",
        "plt.title(\"Power Scheduling\", fontsize=14)\n",
        "plt.grid(True)\n",
        "plt.show()"
      ],
      "execution_count": 338,
      "outputs": [
        {
          "output_type": "display_data",
          "data": {
            "image/png": "[encoded data removed]",
            "text/plain": [
              "<Figure size 432x288 with 1 Axes>"
            ]
          },
          "metadata": {
            "tags": [],
            "needs_background": "light"
          }
        }
      ]
    },
    {
      "cell_type": "code",
      "metadata": {
        "id": "OQvpyhUAKgmX",
        "colab_type": "code",
        "colab": {}
      },
      "source": [
        "def exponential_decay_fn(epoch):\n",
        "    return 0.01 * 0.1**(epoch / 20)"
      ],
      "execution_count": 0,
      "outputs": []
    },
    {
      "cell_type": "code",
      "metadata": {
        "id": "0P24RQ38KoRP",
        "colab_type": "code",
        "colab": {}
      },
      "source": [
        "def exponential_decay(lr0, s):\n",
        "    def exponential_decay_fn(epoch):\n",
        "        return lr0 * 0.1**(epoch / s)\n",
        "    return exponential_decay_fn\n",
        "\n",
        "exponential_decay_fn = exponential_decay(lr0=0.01, s=20)"
      ],
      "execution_count": 0,
      "outputs": []
    },
    {
      "cell_type": "code",
      "metadata": {
        "id": "FSrSrLLUKpmp",
        "colab_type": "code",
        "colab": {}
      },
      "source": [
        "model = keras.models.Sequential([\n",
        "    keras.layers.Flatten(input_shape=[28, 28]),\n",
        "    keras.layers.Dense(300, activation=\"selu\", kernel_initializer=\"lecun_normal\"),\n",
        "    keras.layers.Dense(100, activation=\"selu\", kernel_initializer=\"lecun_normal\"),\n",
        "    keras.layers.Dense(10, activation=\"softmax\")\n",
        "])\n",
        "model.compile(loss=\"sparse_categorical_crossentropy\", optimizer=\"nadam\", metrics=[\"accuracy\"])\n",
        "n_epochs = 15"
      ],
      "execution_count": 0,
      "outputs": []
    },
    {
      "cell_type": "code",
      "metadata": {
        "id": "INu7pgzQKz7D",
        "colab_type": "code",
        "colab": {
          "base_uri": "https://localhost:8080/",
          "height": 563
        },
        "outputId": "09348cd2-2a72-4415-b930-5b3a6b071a15"
      },
      "source": [
        "lr_scheduler = keras.callbacks.LearningRateScheduler(exponential_decay_fn)\n",
        "history = model.fit(X_train_scaled, y_train, epochs=n_epochs,\n",
        "                    validation_data=(X_valid_scaled, y_valid),\n",
        "                    callbacks=[lr_scheduler])"
      ],
      "execution_count": 342,
      "outputs": [
        {
          "output_type": "stream",
          "text": [
            "Epoch 1/15\n",
            "1719/1719 [==============================] - 8s 4ms/step - loss: 0.9094 - accuracy: 0.7370 - val_loss: 1.0208 - val_accuracy: 0.7344 - lr: 0.0100\n",
            "Epoch 2/15\n",
            "1719/1719 [==============================] - 8s 4ms/step - loss: 0.6804 - accuracy: 0.7919 - val_loss: 0.5537 - val_accuracy: 0.8258 - lr: 0.0089\n",
            "Epoch 3/15\n",
            "1719/1719 [==============================] - 7s 4ms/step - loss: 0.6126 - accuracy: 0.8146 - val_loss: 0.7158 - val_accuracy: 0.8138 - lr: 0.0079\n",
            "Epoch 4/15\n",
            "1719/1719 [==============================] - 7s 4ms/step - loss: 0.5616 - accuracy: 0.8316 - val_loss: 0.6111 - val_accuracy: 0.8304 - lr: 0.0071\n",
            "Epoch 5/15\n",
            "1719/1719 [==============================] - 7s 4ms/step - loss: 0.4928 - accuracy: 0.8458 - val_loss: 0.5208 - val_accuracy: 0.8460 - lr: 0.0063\n",
            "Epoch 6/15\n",
            "1719/1719 [==============================] - 7s 4ms/step - loss: 0.4425 - accuracy: 0.8595 - val_loss: 0.4892 - val_accuracy: 0.8552 - lr: 0.0056\n",
            "Epoch 7/15\n",
            "1719/1719 [==============================] - 7s 4ms/step - loss: 0.4200 - accuracy: 0.8660 - val_loss: 0.5197 - val_accuracy: 0.8552 - lr: 0.0050\n",
            "Epoch 8/15\n",
            "1719/1719 [==============================] - 7s 4ms/step - loss: 0.3838 - accuracy: 0.8750 - val_loss: 0.5218 - val_accuracy: 0.8500 - lr: 0.0045\n",
            "Epoch 9/15\n",
            "1719/1719 [==============================] - 7s 4ms/step - loss: 0.3558 - accuracy: 0.8828 - val_loss: 0.4876 - val_accuracy: 0.8468 - lr: 0.0040\n",
            "Epoch 10/15\n",
            "1719/1719 [==============================] - 7s 4ms/step - loss: 0.3283 - accuracy: 0.8896 - val_loss: 0.5185 - val_accuracy: 0.8722 - lr: 0.0035\n",
            "Epoch 11/15\n",
            "1719/1719 [==============================] - 7s 4ms/step - loss: 0.3007 - accuracy: 0.8971 - val_loss: 0.4257 - val_accuracy: 0.8794 - lr: 0.0032\n",
            "Epoch 12/15\n",
            "1719/1719 [==============================] - 8s 4ms/step - loss: 0.2792 - accuracy: 0.9031 - val_loss: 0.4488 - val_accuracy: 0.8800 - lr: 0.0028\n",
            "Epoch 13/15\n",
            "1719/1719 [==============================] - 7s 4ms/step - loss: 0.2645 - accuracy: 0.9087 - val_loss: 0.4535 - val_accuracy: 0.8780 - lr: 0.0025\n",
            "Epoch 14/15\n",
            "1719/1719 [==============================] - 7s 4ms/step - loss: 0.2416 - accuracy: 0.9158 - val_loss: 0.4497 - val_accuracy: 0.8790 - lr: 0.0022\n",
            "Epoch 15/15\n",
            "1719/1719 [==============================] - 7s 4ms/step - loss: 0.2328 - accuracy: 0.9202 - val_loss: 0.4403 - val_accuracy: 0.8812 - lr: 0.0020\n"
          ],
          "name": "stdout"
        }
      ]
    },
    {
      "cell_type": "code",
      "metadata": {
        "id": "67QfWgzyLRbV",
        "colab_type": "code",
        "colab": {
          "base_uri": "https://localhost:8080/",
          "height": 296
        },
        "outputId": "0abd5634-14c5-4f7b-df48-e65ee4761931"
      },
      "source": [
        "plt.plot(history.epoch, history.history[\"lr\"], \"o-\")\n",
        "plt.axis([0, n_epochs - 1, 0, 0.011])\n",
        "plt.xlabel(\"Epoch\")\n",
        "plt.ylabel(\"Learning Rate\")\n",
        "plt.title(\"Exponential Scheduling\", fontsize=14)\n",
        "plt.grid(True)\n",
        "plt.show()"
      ],
      "execution_count": 343,
      "outputs": [
        {
          "output_type": "display_data",
          "data": {
            "image/png": "[encoded data removed]",
            "text/plain": [
              "<Figure size 432x288 with 1 Axes>"
            ]
          },
          "metadata": {
            "tags": [],
            "needs_background": "light"
          }
        }
      ]
    },
    {
      "cell_type": "code",
      "metadata": {
        "id": "oC5a5FbHLbOm",
        "colab_type": "code",
        "colab": {}
      },
      "source": [
        "def exponential_decay_fn(epoch, lr):\n",
        "    return lr * 0.1**(1 / 20)"
      ],
      "execution_count": 0,
      "outputs": []
    },
    {
      "cell_type": "code",
      "metadata": {
        "id": "vlToA1gWLu2L",
        "colab_type": "code",
        "colab": {
          "base_uri": "https://localhost:8080/",
          "height": 946
        },
        "outputId": "31311e44-a673-42a1-fcac-090d9563c52f"
      },
      "source": [
        "K = keras.backend\n",
        "\n",
        "class ExponentialDecay(keras.callbacks.Callback):\n",
        "    def __init__(self, s=40000):\n",
        "        super().__init__()\n",
        "        self.s = s\n",
        "\n",
        "    def on_batch_begin(self, batch, logs=None):\n",
        "        \n",
        "        lr = K.get_value(self.model.optimizer.lr)\n",
        "        K.set_value(self.model.optimizer.lr, lr * 0.1**(1 / s))\n",
        "\n",
        "    def on_epoch_end(self, epoch, logs=None):\n",
        "        logs = logs or {}\n",
        "        logs['lr'] = K.get_value(self.model.optimizer.lr)\n",
        "\n",
        "model = keras.models.Sequential([\n",
        "    keras.layers.Flatten(input_shape=[28, 28]),\n",
        "    keras.layers.Dense(300, activation=\"selu\", kernel_initializer=\"lecun_normal\"),\n",
        "    keras.layers.Dense(100, activation=\"selu\", kernel_initializer=\"lecun_normal\"),\n",
        "    keras.layers.Dense(10, activation=\"softmax\")\n",
        "])\n",
        "lr0 = 0.01\n",
        "optimizer = keras.optimizers.Nadam(lr=lr0)\n",
        "model.compile(loss=\"sparse_categorical_crossentropy\", optimizer=optimizer, metrics=[\"accuracy\"])\n",
        "n_epochs = 25\n",
        "\n",
        "s = 20 * len(X_train) // 32 \n",
        "exp_decay = ExponentialDecay(s)\n",
        "history = model.fit(X_train_scaled, y_train, epochs=n_epochs,\n",
        "                    validation_data=(X_valid_scaled, y_valid),\n",
        "                    callbacks=[exp_decay])"
      ],
      "execution_count": 345,
      "outputs": [
        {
          "output_type": "stream",
          "text": [
            "Epoch 1/25\n",
            "1719/1719 [==============================] - 8s 5ms/step - loss: 0.8274 - accuracy: 0.7604 - val_loss: 0.8279 - val_accuracy: 0.7552 - lr: 0.0089\n",
            "Epoch 2/25\n",
            "1719/1719 [==============================] - 8s 5ms/step - loss: 0.6382 - accuracy: 0.8036 - val_loss: 0.5874 - val_accuracy: 0.8024 - lr: 0.0079\n",
            "Epoch 3/25\n",
            "1719/1719 [==============================] - 8s 5ms/step - loss: 0.5758 - accuracy: 0.8211 - val_loss: 0.7977 - val_accuracy: 0.7764 - lr: 0.0071\n",
            "Epoch 4/25\n",
            "1719/1719 [==============================] - 8s 5ms/step - loss: 0.5196 - accuracy: 0.8369 - val_loss: 0.5043 - val_accuracy: 0.8566 - lr: 0.0063\n",
            "Epoch 5/25\n",
            "1719/1719 [==============================] - 8s 5ms/step - loss: 0.4682 - accuracy: 0.8526 - val_loss: 0.5289 - val_accuracy: 0.8594 - lr: 0.0056\n",
            "Epoch 6/25\n",
            "1719/1719 [==============================] - 8s 5ms/step - loss: 0.4489 - accuracy: 0.8622 - val_loss: 0.4646 - val_accuracy: 0.8660 - lr: 0.0050\n",
            "Epoch 7/25\n",
            "1719/1719 [==============================] - 8s 5ms/step - loss: 0.3985 - accuracy: 0.8721 - val_loss: 0.4495 - val_accuracy: 0.8644 - lr: 0.0045\n",
            "Epoch 8/25\n",
            "1719/1719 [==============================] - 9s 5ms/step - loss: 0.3718 - accuracy: 0.8818 - val_loss: 0.5383 - val_accuracy: 0.8238 - lr: 0.0040\n",
            "Epoch 9/25\n",
            "1719/1719 [==============================] - 8s 5ms/step - loss: 0.3376 - accuracy: 0.8900 - val_loss: 0.4308 - val_accuracy: 0.8812 - lr: 0.0035\n",
            "Epoch 10/25\n",
            "1719/1719 [==============================] - 8s 5ms/step - loss: 0.3084 - accuracy: 0.8964 - val_loss: 0.4549 - val_accuracy: 0.8836 - lr: 0.0032\n",
            "Epoch 11/25\n",
            "1719/1719 [==============================] - 8s 5ms/step - loss: 0.3039 - accuracy: 0.9005 - val_loss: 0.4383 - val_accuracy: 0.8826 - lr: 0.0028\n",
            "Epoch 12/25\n",
            "1719/1719 [==============================] - 8s 5ms/step - loss: 0.2692 - accuracy: 0.9081 - val_loss: 0.4601 - val_accuracy: 0.8736 - lr: 0.0025\n",
            "Epoch 13/25\n",
            "1719/1719 [==============================] - 8s 5ms/step - loss: 0.2529 - accuracy: 0.9126 - val_loss: 0.4405 - val_accuracy: 0.8862 - lr: 0.0022\n",
            "Epoch 14/25\n",
            "1719/1719 [==============================] - 8s 5ms/step - loss: 0.2345 - accuracy: 0.9212 - val_loss: 0.4141 - val_accuracy: 0.8844 - lr: 0.0020\n",
            "Epoch 15/25\n",
            "1719/1719 [==============================] - 8s 5ms/step - loss: 0.2145 - accuracy: 0.9267 - val_loss: 0.4265 - val_accuracy: 0.8864 - lr: 0.0018\n",
            "Epoch 16/25\n",
            "1719/1719 [==============================] - 8s 5ms/step - loss: 0.2017 - accuracy: 0.9315 - val_loss: 0.4170 - val_accuracy: 0.8908 - lr: 0.0016\n",
            "Epoch 17/25\n",
            "1719/1719 [==============================] - 8s 5ms/step - loss: 0.1859 - accuracy: 0.9365 - val_loss: 0.4520 - val_accuracy: 0.8926 - lr: 0.0014\n",
            "Epoch 18/25\n",
            "1719/1719 [==============================] - 8s 5ms/step - loss: 0.1729 - accuracy: 0.9403 - val_loss: 0.4586 - val_accuracy: 0.8908 - lr: 0.0013\n",
            "Epoch 19/25\n",
            "1719/1719 [==============================] - 8s 5ms/step - loss: 0.1616 - accuracy: 0.9459 - val_loss: 0.4662 - val_accuracy: 0.8936 - lr: 0.0011\n",
            "Epoch 20/25\n",
            "1719/1719 [==============================] - 8s 5ms/step - loss: 0.1493 - accuracy: 0.9495 - val_loss: 0.4781 - val_accuracy: 0.8894 - lr: 9.9967e-04\n",
            "Epoch 21/25\n",
            "1719/1719 [==============================] - 8s 5ms/step - loss: 0.1389 - accuracy: 0.9532 - val_loss: 0.5078 - val_accuracy: 0.8916 - lr: 8.9094e-04\n",
            "Epoch 22/25\n",
            "1719/1719 [==============================] - 8s 5ms/step - loss: 0.1296 - accuracy: 0.9569 - val_loss: 0.5434 - val_accuracy: 0.8932 - lr: 7.9404e-04\n",
            "Epoch 23/25\n",
            "1719/1719 [==============================] - 8s 5ms/step - loss: 0.1221 - accuracy: 0.9601 - val_loss: 0.5410 - val_accuracy: 0.8924 - lr: 7.0767e-04\n",
            "Epoch 24/25\n",
            "1719/1719 [==============================] - 8s 5ms/step - loss: 0.1137 - accuracy: 0.9641 - val_loss: 0.5819 - val_accuracy: 0.8920 - lr: 6.3071e-04\n",
            "Epoch 25/25\n",
            "1719/1719 [==============================] - 8s 5ms/step - loss: 0.1068 - accuracy: 0.9651 - val_loss: 0.6123 - val_accuracy: 0.8916 - lr: 5.6211e-04\n"
          ],
          "name": "stdout"
        }
      ]
    },
    {
      "cell_type": "code",
      "metadata": {
        "id": "xgU6AM3oNjYn",
        "colab_type": "code",
        "colab": {}
      },
      "source": [
        "n_steps = n_epochs * len(X_train) // 32\n",
        "steps = np.arange(n_steps)\n",
        "lrs = lr0 * 0.1**(steps / s)"
      ],
      "execution_count": 0,
      "outputs": []
    },
    {
      "cell_type": "code",
      "metadata": {
        "id": "yxlhuD7vNrE4",
        "colab_type": "code",
        "colab": {
          "base_uri": "https://localhost:8080/",
          "height": 296
        },
        "outputId": "89cb8109-f548-41ff-ada3-35aa936051c5"
      },
      "source": [
        "plt.plot(steps, lrs, \"-\", linewidth=2)\n",
        "plt.axis([0, n_steps - 1, 0, lr0 * 1.1])\n",
        "plt.xlabel(\"Batch\")\n",
        "plt.ylabel(\"Learning Rate\")\n",
        "plt.title(\"Exponential Scheduling (per batch)\", fontsize=14)\n",
        "plt.grid(True)\n",
        "plt.show()"
      ],
      "execution_count": 347,
      "outputs": [
        {
          "output_type": "display_data",
          "data": {
            "image/png": "[encoded data removed]",
            "text/plain": [
              "<Figure size 432x288 with 1 Axes>"
            ]
          },
          "metadata": {
            "tags": [],
            "needs_background": "light"
          }
        }
      ]
    },
    {
      "cell_type": "code",
      "metadata": {
        "id": "BM4DS_gXNv_M",
        "colab_type": "code",
        "colab": {}
      },
      "source": [
        "def piecewise_constant_fn(epoch):\n",
        "    if epoch < 5:\n",
        "        return 0.01\n",
        "    elif epoch < 15:\n",
        "        return 0.005\n",
        "    else:\n",
        "        return 0.001"
      ],
      "execution_count": 0,
      "outputs": []
    },
    {
      "cell_type": "code",
      "metadata": {
        "id": "p6ah1pH7N0SG",
        "colab_type": "code",
        "colab": {}
      },
      "source": [
        "def piecewise_constant(boundaries, values):\n",
        "    boundaries = np.array([0] + boundaries)\n",
        "    values = np.array(values)\n",
        "    def piecewise_constant_fn(epoch):\n",
        "        return values[np.argmax(boundaries > epoch) - 1]\n",
        "    return piecewise_constant_fn\n",
        "\n",
        "piecewise_constant_fn = piecewise_constant([5, 15], [0.01, 0.005, 0.001])"
      ],
      "execution_count": 0,
      "outputs": []
    },
    {
      "cell_type": "code",
      "metadata": {
        "id": "m54njqWqN1zO",
        "colab_type": "code",
        "colab": {
          "base_uri": "https://localhost:8080/",
          "height": 926
        },
        "outputId": "399e1200-44ed-4c0a-bb37-26db107148b8"
      },
      "source": [
        "lr_scheduler = keras.callbacks.LearningRateScheduler(piecewise_constant_fn)\n",
        "\n",
        "model = keras.models.Sequential([\n",
        "    keras.layers.Flatten(input_shape=[28, 28]),\n",
        "    keras.layers.Dense(300, activation=\"selu\", kernel_initializer=\"lecun_normal\"),\n",
        "    keras.layers.Dense(100, activation=\"selu\", kernel_initializer=\"lecun_normal\"),\n",
        "    keras.layers.Dense(10, activation=\"softmax\")\n",
        "])\n",
        "model.compile(loss=\"sparse_categorical_crossentropy\", optimizer=\"nadam\", metrics=[\"accuracy\"])\n",
        "n_epochs = 25\n",
        "history = model.fit(X_train_scaled, y_train, epochs=n_epochs,\n",
        "                    validation_data=(X_valid_scaled, y_valid),\n",
        "                    callbacks=[lr_scheduler])"
      ],
      "execution_count": 350,
      "outputs": [
        {
          "output_type": "stream",
          "text": [
            "Epoch 1/25\n",
            "1719/1719 [==============================] - 8s 4ms/step - loss: 0.8524 - accuracy: 0.7559 - val_loss: 0.9752 - val_accuracy: 0.7090 - lr: 0.0100\n",
            "Epoch 2/25\n",
            "1719/1719 [==============================] - 8s 4ms/step - loss: 0.8640 - accuracy: 0.7428 - val_loss: 0.6138 - val_accuracy: 0.8072 - lr: 0.0100\n",
            "Epoch 3/25\n",
            "1719/1719 [==============================] - 8s 4ms/step - loss: 0.8610 - accuracy: 0.7478 - val_loss: 1.4423 - val_accuracy: 0.6284 - lr: 0.0100\n",
            "Epoch 4/25\n",
            "1719/1719 [==============================] - 8s 4ms/step - loss: 0.9943 - accuracy: 0.6765 - val_loss: 0.9379 - val_accuracy: 0.6768 - lr: 0.0100\n",
            "Epoch 5/25\n",
            "1719/1719 [==============================] - 8s 5ms/step - loss: 0.8587 - accuracy: 0.7002 - val_loss: 0.8857 - val_accuracy: 0.7486 - lr: 0.0100\n",
            "Epoch 6/25\n",
            "1719/1719 [==============================] - 8s 4ms/step - loss: 0.6166 - accuracy: 0.7880 - val_loss: 0.7018 - val_accuracy: 0.8118 - lr: 0.0050\n",
            "Epoch 7/25\n",
            "1719/1719 [==============================] - 8s 4ms/step - loss: 0.5694 - accuracy: 0.8085 - val_loss: 0.6289 - val_accuracy: 0.8006 - lr: 0.0050\n",
            "Epoch 8/25\n",
            "1719/1719 [==============================] - 7s 4ms/step - loss: 0.5505 - accuracy: 0.8128 - val_loss: 0.7164 - val_accuracy: 0.7766 - lr: 0.0050\n",
            "Epoch 9/25\n",
            "1719/1719 [==============================] - 7s 4ms/step - loss: 0.5452 - accuracy: 0.8160 - val_loss: 0.6168 - val_accuracy: 0.7748 - lr: 0.0050\n",
            "Epoch 10/25\n",
            "1719/1719 [==============================] - 7s 4ms/step - loss: 0.5299 - accuracy: 0.8233 - val_loss: 0.6665 - val_accuracy: 0.8124 - lr: 0.0050\n",
            "Epoch 11/25\n",
            "1719/1719 [==============================] - 7s 4ms/step - loss: 0.5217 - accuracy: 0.8298 - val_loss: 0.6863 - val_accuracy: 0.8342 - lr: 0.0050\n",
            "Epoch 12/25\n",
            "1719/1719 [==============================] - 8s 4ms/step - loss: 0.5128 - accuracy: 0.8303 - val_loss: 0.6661 - val_accuracy: 0.7912 - lr: 0.0050\n",
            "Epoch 13/25\n",
            "1719/1719 [==============================] - 8s 4ms/step - loss: 0.5047 - accuracy: 0.8344 - val_loss: 0.6884 - val_accuracy: 0.7988 - lr: 0.0050\n",
            "Epoch 14/25\n",
            "1719/1719 [==============================] - 7s 4ms/step - loss: 0.4956 - accuracy: 0.8385 - val_loss: 0.5857 - val_accuracy: 0.8268 - lr: 0.0050\n",
            "Epoch 15/25\n",
            "1719/1719 [==============================] - 7s 4ms/step - loss: 0.4770 - accuracy: 0.8418 - val_loss: 0.6479 - val_accuracy: 0.8326 - lr: 0.0050\n",
            "Epoch 16/25\n",
            "1719/1719 [==============================] - 8s 4ms/step - loss: 0.3698 - accuracy: 0.8770 - val_loss: 0.5511 - val_accuracy: 0.8496 - lr: 0.0010\n",
            "Epoch 17/25\n",
            "1719/1719 [==============================] - 7s 4ms/step - loss: 0.3300 - accuracy: 0.8856 - val_loss: 0.5342 - val_accuracy: 0.8502 - lr: 0.0010\n",
            "Epoch 18/25\n",
            "1719/1719 [==============================] - 7s 4ms/step - loss: 0.3016 - accuracy: 0.8904 - val_loss: 0.5254 - val_accuracy: 0.8646 - lr: 0.0010\n",
            "Epoch 19/25\n",
            "1719/1719 [==============================] - 7s 4ms/step - loss: 0.2896 - accuracy: 0.8946 - val_loss: 0.5374 - val_accuracy: 0.8656 - lr: 0.0010\n",
            "Epoch 20/25\n",
            "1719/1719 [==============================] - 7s 4ms/step - loss: 0.2784 - accuracy: 0.8993 - val_loss: 0.5505 - val_accuracy: 0.8678 - lr: 0.0010\n",
            "Epoch 21/25\n",
            "1719/1719 [==============================] - 7s 4ms/step - loss: 0.2612 - accuracy: 0.9049 - val_loss: 0.5900 - val_accuracy: 0.8682 - lr: 0.0010\n",
            "Epoch 22/25\n",
            "1719/1719 [==============================] - 7s 4ms/step - loss: 0.2438 - accuracy: 0.9108 - val_loss: 0.5854 - val_accuracy: 0.8736 - lr: 0.0010\n",
            "Epoch 23/25\n",
            "1719/1719 [==============================] - 8s 5ms/step - loss: 0.2337 - accuracy: 0.9147 - val_loss: 0.5536 - val_accuracy: 0.8730 - lr: 0.0010\n",
            "Epoch 24/25\n",
            "1719/1719 [==============================] - 7s 4ms/step - loss: 0.2195 - accuracy: 0.9207 - val_loss: 0.5544 - val_accuracy: 0.8760 - lr: 0.0010\n",
            "Epoch 25/25\n",
            "1719/1719 [==============================] - 7s 4ms/step - loss: 0.2110 - accuracy: 0.9223 - val_loss: 0.5635 - val_accuracy: 0.8824 - lr: 0.0010\n"
          ],
          "name": "stdout"
        }
      ]
    },
    {
      "cell_type": "code",
      "metadata": {
        "id": "e3QFWkqnOxnf",
        "colab_type": "code",
        "colab": {
          "base_uri": "https://localhost:8080/",
          "height": 296
        },
        "outputId": "11d9d902-f4a1-4a7d-f063-477db8fe5a91"
      },
      "source": [
        "plt.plot(history.epoch, [piecewise_constant_fn(epoch) for epoch in history.epoch], \"o-\")\n",
        "plt.axis([0, n_epochs - 1, 0, 0.011])\n",
        "plt.xlabel(\"Epoch\")\n",
        "plt.ylabel(\"Learning Rate\")\n",
        "plt.title(\"Piecewise Constant Scheduling\", fontsize=14)\n",
        "plt.grid(True)\n",
        "plt.show()"
      ],
      "execution_count": 351,
      "outputs": [
        {
          "output_type": "display_data",
          "data": {
            "image/png": "[encoded data removed]",
            "text/plain": [
              "<Figure size 432x288 with 1 Axes>"
            ]
          },
          "metadata": {
            "tags": [],
            "needs_background": "light"
          }
        }
      ]
    },
    {
      "cell_type": "code",
      "metadata": {
        "id": "dzg0IZICO4r-",
        "colab_type": "code",
        "colab": {}
      },
      "source": [
        "tf.random.set_seed(42)\n",
        "np.random.seed(42)"
      ],
      "execution_count": 0,
      "outputs": []
    },
    {
      "cell_type": "code",
      "metadata": {
        "id": "7mYQ6LfiPC7z",
        "colab_type": "code",
        "colab": {
          "base_uri": "https://localhost:8080/",
          "height": 926
        },
        "outputId": "f26738c7-56d3-4a2b-ac46-5aa25f7b7dd9"
      },
      "source": [
        "lr_scheduler = keras.callbacks.ReduceLROnPlateau(factor=0.5, patience=5)\n",
        "\n",
        "model = keras.models.Sequential([\n",
        "    keras.layers.Flatten(input_shape=[28, 28]),\n",
        "    keras.layers.Dense(300, activation=\"selu\", kernel_initializer=\"lecun_normal\"),\n",
        "    keras.layers.Dense(100, activation=\"selu\", kernel_initializer=\"lecun_normal\"),\n",
        "    keras.layers.Dense(10, activation=\"softmax\")\n",
        "])\n",
        "optimizer = keras.optimizers.SGD(lr=0.02, momentum=0.9)\n",
        "model.compile(loss=\"sparse_categorical_crossentropy\", optimizer=optimizer, metrics=[\"accuracy\"])\n",
        "n_epochs = 25\n",
        "history = model.fit(X_train_scaled, y_train, epochs=n_epochs,\n",
        "                    validation_data=(X_valid_scaled, y_valid),\n",
        "                    callbacks=[lr_scheduler])"
      ],
      "execution_count": 353,
      "outputs": [
        {
          "output_type": "stream",
          "text": [
            "Epoch 1/25\n",
            "1719/1719 [==============================] - 4s 2ms/step - loss: 0.5921 - accuracy: 0.8060 - val_loss: 0.4477 - val_accuracy: 0.8558 - lr: 0.0200\n",
            "Epoch 2/25\n",
            "1719/1719 [==============================] - 4s 3ms/step - loss: 0.4974 - accuracy: 0.8396 - val_loss: 0.6120 - val_accuracy: 0.8360 - lr: 0.0200\n",
            "Epoch 3/25\n",
            "1719/1719 [==============================] - 4s 2ms/step - loss: 0.5222 - accuracy: 0.8407 - val_loss: 0.5312 - val_accuracy: 0.8520 - lr: 0.0200\n",
            "Epoch 4/25\n",
            "1719/1719 [==============================] - 4s 2ms/step - loss: 0.4898 - accuracy: 0.8504 - val_loss: 0.4545 - val_accuracy: 0.8526 - lr: 0.0200\n",
            "Epoch 5/25\n",
            "1719/1719 [==============================] - 4s 2ms/step - loss: 0.5264 - accuracy: 0.8473 - val_loss: 0.4999 - val_accuracy: 0.8416 - lr: 0.0200\n",
            "Epoch 6/25\n",
            "1719/1719 [==============================] - 4s 2ms/step - loss: 0.4961 - accuracy: 0.8561 - val_loss: 0.5358 - val_accuracy: 0.8566 - lr: 0.0200\n",
            "Epoch 7/25\n",
            "1719/1719 [==============================] - 4s 2ms/step - loss: 0.3058 - accuracy: 0.8935 - val_loss: 0.3868 - val_accuracy: 0.8780 - lr: 0.0100\n",
            "Epoch 8/25\n",
            "1719/1719 [==============================] - 4s 2ms/step - loss: 0.2564 - accuracy: 0.9061 - val_loss: 0.4176 - val_accuracy: 0.8742 - lr: 0.0100\n",
            "Epoch 9/25\n",
            "1719/1719 [==============================] - 4s 2ms/step - loss: 0.2331 - accuracy: 0.9141 - val_loss: 0.4345 - val_accuracy: 0.8788 - lr: 0.0100\n",
            "Epoch 10/25\n",
            "1719/1719 [==============================] - 4s 2ms/step - loss: 0.2230 - accuracy: 0.9189 - val_loss: 0.4486 - val_accuracy: 0.8794 - lr: 0.0100\n",
            "Epoch 11/25\n",
            "1719/1719 [==============================] - 4s 2ms/step - loss: 0.2096 - accuracy: 0.9227 - val_loss: 0.4158 - val_accuracy: 0.8850 - lr: 0.0100\n",
            "Epoch 12/25\n",
            "1719/1719 [==============================] - 4s 2ms/step - loss: 0.1987 - accuracy: 0.9259 - val_loss: 0.4835 - val_accuracy: 0.8740 - lr: 0.0100\n",
            "Epoch 13/25\n",
            "1719/1719 [==============================] - 4s 2ms/step - loss: 0.1399 - accuracy: 0.9452 - val_loss: 0.3912 - val_accuracy: 0.8908 - lr: 0.0050\n",
            "Epoch 14/25\n",
            "1719/1719 [==============================] - 4s 2ms/step - loss: 0.1213 - accuracy: 0.9534 - val_loss: 0.4123 - val_accuracy: 0.8900 - lr: 0.0050\n",
            "Epoch 15/25\n",
            "1719/1719 [==============================] - 4s 2ms/step - loss: 0.1140 - accuracy: 0.9563 - val_loss: 0.4267 - val_accuracy: 0.8892 - lr: 0.0050\n",
            "Epoch 16/25\n",
            "1719/1719 [==============================] - 4s 2ms/step - loss: 0.1054 - accuracy: 0.9598 - val_loss: 0.4507 - val_accuracy: 0.8886 - lr: 0.0050\n",
            "Epoch 17/25\n",
            "1719/1719 [==============================] - 4s 2ms/step - loss: 0.1003 - accuracy: 0.9612 - val_loss: 0.4682 - val_accuracy: 0.8872 - lr: 0.0050\n",
            "Epoch 18/25\n",
            "1719/1719 [==============================] - 4s 2ms/step - loss: 0.0761 - accuracy: 0.9716 - val_loss: 0.4768 - val_accuracy: 0.8918 - lr: 0.0025\n",
            "Epoch 19/25\n",
            "1719/1719 [==============================] - 4s 2ms/step - loss: 0.0693 - accuracy: 0.9745 - val_loss: 0.4880 - val_accuracy: 0.8912 - lr: 0.0025\n",
            "Epoch 20/25\n",
            "1719/1719 [==============================] - 4s 2ms/step - loss: 0.0644 - accuracy: 0.9765 - val_loss: 0.4969 - val_accuracy: 0.8926 - lr: 0.0025\n",
            "Epoch 21/25\n",
            "1719/1719 [==============================] - 4s 2ms/step - loss: 0.0606 - accuracy: 0.9782 - val_loss: 0.5138 - val_accuracy: 0.8910 - lr: 0.0025\n",
            "Epoch 22/25\n",
            "1719/1719 [==============================] - 6s 4ms/step - loss: 0.0571 - accuracy: 0.9797 - val_loss: 0.5211 - val_accuracy: 0.8926 - lr: 0.0025\n",
            "Epoch 23/25\n",
            "1719/1719 [==============================] - 4s 2ms/step - loss: 0.0484 - accuracy: 0.9839 - val_loss: 0.5257 - val_accuracy: 0.8950 - lr: 0.0012\n",
            "Epoch 24/25\n",
            "1719/1719 [==============================] - 4s 2ms/step - loss: 0.0456 - accuracy: 0.9851 - val_loss: 0.5337 - val_accuracy: 0.8938 - lr: 0.0012\n",
            "Epoch 25/25\n",
            "1719/1719 [==============================] - 4s 2ms/step - loss: 0.0440 - accuracy: 0.9858 - val_loss: 0.5416 - val_accuracy: 0.8940 - lr: 0.0012\n"
          ],
          "name": "stdout"
        }
      ]
    },
    {
      "cell_type": "code",
      "metadata": {
        "id": "q56lNVLJbl6q",
        "colab_type": "code",
        "colab": {
          "base_uri": "https://localhost:8080/",
          "height": 296
        },
        "outputId": "77f75b02-081b-42ec-fc98-e3d25c55f309"
      },
      "source": [
        "plt.plot(history.epoch, history.history[\"lr\"], \"bo-\")\n",
        "plt.xlabel(\"Epoch\")\n",
        "plt.ylabel(\"Learning Rate\", color='b')\n",
        "plt.tick_params('y', colors='b')\n",
        "plt.gca().set_xlim(0, n_epochs - 1)\n",
        "plt.grid(True)\n",
        "\n",
        "ax2 = plt.gca().twinx()\n",
        "ax2.plot(history.epoch, history.history[\"val_loss\"], \"r^-\")\n",
        "ax2.set_ylabel('Validation Loss', color='r')\n",
        "ax2.tick_params('y', colors='r')\n",
        "\n",
        "plt.title(\"Reduce LR on Plateau\", fontsize=14)\n",
        "plt.show()"
      ],
      "execution_count": 354,
      "outputs": [
        {
          "output_type": "display_data",
          "data": {
            "image/png": "[encoded data removed]",
            "text/plain": [
              "<Figure size 432x288 with 2 Axes>"
            ]
          },
          "metadata": {
            "tags": [],
            "needs_background": "light"
          }
        }
      ]
    },
    {
      "cell_type": "code",
      "metadata": {
        "id": "c8li-sgudCfL",
        "colab_type": "code",
        "colab": {
          "base_uri": "https://localhost:8080/",
          "height": 926
        },
        "outputId": "eb6d65c7-d2d2-4847-a8f8-f1c6bb08183b"
      },
      "source": [
        "model = keras.models.Sequential([\n",
        "    keras.layers.Flatten(input_shape=[28, 28]),\n",
        "    keras.layers.Dense(300, activation=\"selu\", kernel_initializer=\"lecun_normal\"),\n",
        "    keras.layers.Dense(100, activation=\"selu\", kernel_initializer=\"lecun_normal\"),\n",
        "    keras.layers.Dense(10, activation=\"softmax\")\n",
        "])\n",
        "s = 20 * len(X_train) // 32 # number of steps in 20 epochs (batch size = 32)\n",
        "learning_rate = keras.optimizers.schedules.ExponentialDecay(0.01, s, 0.1)\n",
        "optimizer = keras.optimizers.SGD(learning_rate)\n",
        "model.compile(loss=\"sparse_categorical_crossentropy\", optimizer=optimizer, metrics=[\"accuracy\"])\n",
        "n_epochs = 25\n",
        "history = model.fit(X_train_scaled, y_train, epochs=n_epochs,\n",
        "                    validation_data=(X_valid_scaled, y_valid))"
      ],
      "execution_count": 355,
      "outputs": [
        {
          "output_type": "stream",
          "text": [
            "Epoch 1/25\n",
            "1719/1719 [==============================] - 4s 2ms/step - loss: 0.4894 - accuracy: 0.8275 - val_loss: 0.4094 - val_accuracy: 0.8600\n",
            "Epoch 2/25\n",
            "1719/1719 [==============================] - 4s 2ms/step - loss: 0.3820 - accuracy: 0.8652 - val_loss: 0.3739 - val_accuracy: 0.8694\n",
            "Epoch 3/25\n",
            "1719/1719 [==============================] - 4s 2ms/step - loss: 0.3487 - accuracy: 0.8766 - val_loss: 0.3731 - val_accuracy: 0.8688\n",
            "Epoch 4/25\n",
            "1719/1719 [==============================] - 4s 2ms/step - loss: 0.3264 - accuracy: 0.8836 - val_loss: 0.3492 - val_accuracy: 0.8800\n",
            "Epoch 5/25\n",
            "1719/1719 [==============================] - 4s 2ms/step - loss: 0.3105 - accuracy: 0.8898 - val_loss: 0.3430 - val_accuracy: 0.8792\n",
            "Epoch 6/25\n",
            "1719/1719 [==============================] - 4s 2ms/step - loss: 0.2959 - accuracy: 0.8951 - val_loss: 0.3414 - val_accuracy: 0.8818\n",
            "Epoch 7/25\n",
            "1719/1719 [==============================] - 4s 2ms/step - loss: 0.2855 - accuracy: 0.8989 - val_loss: 0.3355 - val_accuracy: 0.8808\n",
            "Epoch 8/25\n",
            "1719/1719 [==============================] - 4s 2ms/step - loss: 0.2761 - accuracy: 0.9014 - val_loss: 0.3365 - val_accuracy: 0.8810\n",
            "Epoch 9/25\n",
            "1719/1719 [==============================] - 4s 2ms/step - loss: 0.2678 - accuracy: 0.9053 - val_loss: 0.3262 - val_accuracy: 0.8858\n",
            "Epoch 10/25\n",
            "1719/1719 [==============================] - 4s 2ms/step - loss: 0.2609 - accuracy: 0.9068 - val_loss: 0.3240 - val_accuracy: 0.8850\n",
            "Epoch 11/25\n",
            "1719/1719 [==============================] - 4s 2ms/step - loss: 0.2552 - accuracy: 0.9084 - val_loss: 0.3251 - val_accuracy: 0.8864\n",
            "Epoch 12/25\n",
            "1719/1719 [==============================] - 4s 2ms/step - loss: 0.2497 - accuracy: 0.9128 - val_loss: 0.3301 - val_accuracy: 0.8818\n",
            "Epoch 13/25\n",
            "1719/1719 [==============================] - 4s 2ms/step - loss: 0.2450 - accuracy: 0.9135 - val_loss: 0.3216 - val_accuracy: 0.8864\n",
            "Epoch 14/25\n",
            "1719/1719 [==============================] - 4s 2ms/step - loss: 0.2416 - accuracy: 0.9144 - val_loss: 0.3220 - val_accuracy: 0.8862\n",
            "Epoch 15/25\n",
            "1719/1719 [==============================] - 4s 2ms/step - loss: 0.2376 - accuracy: 0.9167 - val_loss: 0.3207 - val_accuracy: 0.8880\n",
            "Epoch 16/25\n",
            "1719/1719 [==============================] - 4s 2ms/step - loss: 0.2344 - accuracy: 0.9179 - val_loss: 0.3183 - val_accuracy: 0.8894\n",
            "Epoch 17/25\n",
            "1719/1719 [==============================] - 4s 2ms/step - loss: 0.2317 - accuracy: 0.9188 - val_loss: 0.3195 - val_accuracy: 0.8900\n",
            "Epoch 18/25\n",
            "1719/1719 [==============================] - 4s 2ms/step - loss: 0.2291 - accuracy: 0.9197 - val_loss: 0.3166 - val_accuracy: 0.8902\n",
            "Epoch 19/25\n",
            "1719/1719 [==============================] - 4s 2ms/step - loss: 0.2270 - accuracy: 0.9207 - val_loss: 0.3195 - val_accuracy: 0.8890\n",
            "Epoch 20/25\n",
            "1719/1719 [==============================] - 4s 2ms/step - loss: 0.2251 - accuracy: 0.9218 - val_loss: 0.3166 - val_accuracy: 0.8900\n",
            "Epoch 21/25\n",
            "1719/1719 [==============================] - 4s 2ms/step - loss: 0.2229 - accuracy: 0.9223 - val_loss: 0.3177 - val_accuracy: 0.8906\n",
            "Epoch 22/25\n",
            "1719/1719 [==============================] - 4s 2ms/step - loss: 0.2216 - accuracy: 0.9223 - val_loss: 0.3161 - val_accuracy: 0.8912\n",
            "Epoch 23/25\n",
            "1719/1719 [==============================] - 4s 2ms/step - loss: 0.2201 - accuracy: 0.9231 - val_loss: 0.3169 - val_accuracy: 0.8896\n",
            "Epoch 24/25\n",
            "1719/1719 [==============================] - 4s 2ms/step - loss: 0.2188 - accuracy: 0.9239 - val_loss: 0.3164 - val_accuracy: 0.8898\n",
            "Epoch 25/25\n",
            "1719/1719 [==============================] - 4s 2ms/step - loss: 0.2180 - accuracy: 0.9241 - val_loss: 0.3163 - val_accuracy: 0.8906\n"
          ],
          "name": "stdout"
        }
      ]
    },
    {
      "cell_type": "code",
      "metadata": {
        "id": "o4JxVgXTdlaa",
        "colab_type": "code",
        "colab": {}
      },
      "source": [
        "learning_rate = keras.optimizers.schedules.PiecewiseConstantDecay(\n",
        "    boundaries=[5. * n_steps_per_epoch, 15. * n_steps_per_epoch],\n",
        "    values=[0.01, 0.005, 0.001])"
      ],
      "execution_count": 0,
      "outputs": []
    },
    {
      "cell_type": "code",
      "metadata": {
        "id": "gnPDl7RHdoSW",
        "colab_type": "code",
        "colab": {}
      },
      "source": [
        "K = keras.backend\n",
        "\n",
        "class ExponentialLearningRate(keras.callbacks.Callback):\n",
        "    def __init__(self, factor):\n",
        "        self.factor = factor\n",
        "        self.rates = []\n",
        "        self.losses = []\n",
        "    def on_batch_end(self, batch, logs):\n",
        "        self.rates.append(K.get_value(self.model.optimizer.lr))\n",
        "        self.losses.append(logs[\"loss\"])\n",
        "        K.set_value(self.model.optimizer.lr, self.model.optimizer.lr * self.factor)\n",
        "\n",
        "def find_learning_rate(model, X, y, epochs=1, batch_size=32, min_rate=10**-5, max_rate=10):\n",
        "    init_weights = model.get_weights()\n",
        "    iterations = len(X) // batch_size * epochs\n",
        "    factor = np.exp(np.log(max_rate / min_rate) / iterations)\n",
        "    init_lr = K.get_value(model.optimizer.lr)\n",
        "    K.set_value(model.optimizer.lr, min_rate)\n",
        "    exp_lr = ExponentialLearningRate(factor)\n",
        "    history = model.fit(X, y, epochs=epochs, batch_size=batch_size,\n",
        "                        callbacks=[exp_lr])\n",
        "    K.set_value(model.optimizer.lr, init_lr)\n",
        "    model.set_weights(init_weights)\n",
        "    return exp_lr.rates, exp_lr.losses\n",
        "\n",
        "def plot_lr_vs_loss(rates, losses):\n",
        "    plt.plot(rates, losses)\n",
        "    plt.gca().set_xscale('log')\n",
        "    plt.hlines(min(losses), min(rates), max(rates))\n",
        "    plt.axis([min(rates), max(rates), min(losses), (losses[0] + min(losses)) / 2])\n",
        "    plt.xlabel(\"Learning rate\")\n",
        "    plt.ylabel(\"Loss\")"
      ],
      "execution_count": 0,
      "outputs": []
    },
    {
      "cell_type": "code",
      "metadata": {
        "id": "xXAG8z8FdwnK",
        "colab_type": "code",
        "colab": {}
      },
      "source": [
        "tf.random.set_seed(42)\n",
        "np.random.seed(42)\n",
        "\n",
        "model = keras.models.Sequential([\n",
        "    keras.layers.Flatten(input_shape=[28, 28]),\n",
        "    keras.layers.Dense(300, activation=\"selu\", kernel_initializer=\"lecun_normal\"),\n",
        "    keras.layers.Dense(100, activation=\"selu\", kernel_initializer=\"lecun_normal\"),\n",
        "    keras.layers.Dense(10, activation=\"softmax\")\n",
        "])\n",
        "model.compile(loss=\"sparse_categorical_crossentropy\",\n",
        "              optimizer=keras.optimizers.SGD(lr=1e-3),\n",
        "              metrics=[\"accuracy\"])"
      ],
      "execution_count": 0,
      "outputs": []
    },
    {
      "cell_type": "code",
      "metadata": {
        "id": "_DxpYCqdd0_A",
        "colab_type": "code",
        "colab": {
          "base_uri": "https://localhost:8080/",
          "height": 301
        },
        "outputId": "0b710a28-9fcc-4025-ecf8-d702b71e2620"
      },
      "source": [
        "batch_size = 128\n",
        "rates, losses = find_learning_rate(model, X_train_scaled, y_train, epochs=1, batch_size=batch_size)\n",
        "plot_lr_vs_loss(rates, losses)"
      ],
      "execution_count": 359,
      "outputs": [
        {
          "output_type": "stream",
          "text": [
            "430/430 [==============================] - 2s 5ms/step - loss: nan - accuracy: 0.3862\n"
          ],
          "name": "stdout"
        },
        {
          "output_type": "display_data",
          "data": {
            "image/png": "[encoded data removed]",
            "text/plain": [
              "<Figure size 432x288 with 1 Axes>"
            ]
          },
          "metadata": {
            "tags": [],
            "needs_background": "light"
          }
        }
      ]
    },
    {
      "cell_type": "code",
      "metadata": {
        "id": "PzZn2XeleSeG",
        "colab_type": "code",
        "colab": {}
      },
      "source": [
        "class OneCycleScheduler(keras.callbacks.Callback):\n",
        "    def __init__(self, iterations, max_rate, start_rate=None,\n",
        "                 last_iterations=None, last_rate=None):\n",
        "        self.iterations = iterations\n",
        "        self.max_rate = max_rate\n",
        "        self.start_rate = start_rate or max_rate / 10\n",
        "        self.last_iterations = last_iterations or iterations // 10 + 1\n",
        "        self.half_iteration = (iterations - self.last_iterations) // 2\n",
        "        self.last_rate = last_rate or self.start_rate / 1000\n",
        "        self.iteration = 0\n",
        "    def _interpolate(self, iter1, iter2, rate1, rate2):\n",
        "        return ((rate2 - rate1) * (self.iteration - iter1)\n",
        "                / (iter2 - iter1) + rate1)\n",
        "    def on_batch_begin(self, batch, logs):\n",
        "        if self.iteration < self.half_iteration:\n",
        "            rate = self._interpolate(0, self.half_iteration, self.start_rate, self.max_rate)\n",
        "        elif self.iteration < 2 * self.half_iteration:\n",
        "            rate = self._interpolate(self.half_iteration, 2 * self.half_iteration,\n",
        "                                     self.max_rate, self.start_rate)\n",
        "        else:\n",
        "            rate = self._interpolate(2 * self.half_iteration, self.iterations,\n",
        "                                     self.start_rate, self.last_rate)\n",
        "            rate = max(rate, self.last_rate)\n",
        "        self.iteration += 1\n",
        "        K.set_value(self.model.optimizer.lr, rate)"
      ],
      "execution_count": 0,
      "outputs": []
    },
    {
      "cell_type": "code",
      "metadata": {
        "id": "6zMiCkaDeWI0",
        "colab_type": "code",
        "colab": {
          "base_uri": "https://localhost:8080/",
          "height": 926
        },
        "outputId": "f20bbd60-3499-4eaa-bf72-6a4f2c1bdd32"
      },
      "source": [
        "n_epochs = 25\n",
        "onecycle = OneCycleScheduler(len(X_train) // batch_size * n_epochs, max_rate=0.05)\n",
        "history = model.fit(X_train_scaled, y_train, epochs=n_epochs, batch_size=batch_size,\n",
        "                    validation_data=(X_valid_scaled, y_valid),\n",
        "                    callbacks=[onecycle])"
      ],
      "execution_count": 361,
      "outputs": [
        {
          "output_type": "stream",
          "text": [
            "Epoch 1/25\n",
            "430/430 [==============================] - 2s 5ms/step - loss: 0.6572 - accuracy: 0.7740 - val_loss: 0.4872 - val_accuracy: 0.8338\n",
            "Epoch 2/25\n",
            "430/430 [==============================] - 2s 5ms/step - loss: 0.4581 - accuracy: 0.8396 - val_loss: 0.4273 - val_accuracy: 0.8522\n",
            "Epoch 3/25\n",
            "430/430 [==============================] - 2s 5ms/step - loss: 0.4121 - accuracy: 0.8546 - val_loss: 0.4115 - val_accuracy: 0.8586\n",
            "Epoch 4/25\n",
            "430/430 [==============================] - 2s 5ms/step - loss: 0.3837 - accuracy: 0.8641 - val_loss: 0.3868 - val_accuracy: 0.8686\n",
            "Epoch 5/25\n",
            "430/430 [==============================] - 2s 5ms/step - loss: 0.3639 - accuracy: 0.8716 - val_loss: 0.3765 - val_accuracy: 0.8682\n",
            "Epoch 6/25\n",
            "430/430 [==============================] - 2s 5ms/step - loss: 0.3457 - accuracy: 0.8773 - val_loss: 0.3744 - val_accuracy: 0.8706\n",
            "Epoch 7/25\n",
            "430/430 [==============================] - 2s 5ms/step - loss: 0.3330 - accuracy: 0.8809 - val_loss: 0.3636 - val_accuracy: 0.8718\n",
            "Epoch 8/25\n",
            "430/430 [==============================] - 2s 5ms/step - loss: 0.3185 - accuracy: 0.8861 - val_loss: 0.3956 - val_accuracy: 0.8600\n",
            "Epoch 9/25\n",
            "430/430 [==============================] - 2s 5ms/step - loss: 0.3065 - accuracy: 0.8892 - val_loss: 0.3489 - val_accuracy: 0.8754\n",
            "Epoch 10/25\n",
            "430/430 [==============================] - 2s 5ms/step - loss: 0.2944 - accuracy: 0.8926 - val_loss: 0.3398 - val_accuracy: 0.8810\n",
            "Epoch 11/25\n",
            "430/430 [==============================] - 2s 5ms/step - loss: 0.2839 - accuracy: 0.8961 - val_loss: 0.3464 - val_accuracy: 0.8802\n",
            "Epoch 12/25\n",
            "430/430 [==============================] - 2s 5ms/step - loss: 0.2708 - accuracy: 0.9025 - val_loss: 0.3642 - val_accuracy: 0.8686\n",
            "Epoch 13/25\n",
            "430/430 [==============================] - 2s 5ms/step - loss: 0.2536 - accuracy: 0.9085 - val_loss: 0.3345 - val_accuracy: 0.8834\n",
            "Epoch 14/25\n",
            "430/430 [==============================] - 2s 5ms/step - loss: 0.2403 - accuracy: 0.9139 - val_loss: 0.3457 - val_accuracy: 0.8806\n",
            "Epoch 15/25\n",
            "430/430 [==============================] - 2s 5ms/step - loss: 0.2279 - accuracy: 0.9183 - val_loss: 0.3249 - val_accuracy: 0.8846\n",
            "Epoch 16/25\n",
            "430/430 [==============================] - 2s 5ms/step - loss: 0.2158 - accuracy: 0.9235 - val_loss: 0.3293 - val_accuracy: 0.8828\n",
            "Epoch 17/25\n",
            "430/430 [==============================] - 2s 5ms/step - loss: 0.2061 - accuracy: 0.9263 - val_loss: 0.3342 - val_accuracy: 0.8866\n",
            "Epoch 18/25\n",
            "430/430 [==============================] - 2s 5ms/step - loss: 0.1977 - accuracy: 0.9304 - val_loss: 0.3235 - val_accuracy: 0.8904\n",
            "Epoch 19/25\n",
            "430/430 [==============================] - 2s 5ms/step - loss: 0.1891 - accuracy: 0.9340 - val_loss: 0.3233 - val_accuracy: 0.8904\n",
            "Epoch 20/25\n",
            "430/430 [==============================] - 2s 5ms/step - loss: 0.1820 - accuracy: 0.9367 - val_loss: 0.3223 - val_accuracy: 0.8920\n",
            "Epoch 21/25\n",
            "430/430 [==============================] - 2s 5ms/step - loss: 0.1752 - accuracy: 0.9401 - val_loss: 0.3216 - val_accuracy: 0.8908\n",
            "Epoch 22/25\n",
            "430/430 [==============================] - 2s 5ms/step - loss: 0.1699 - accuracy: 0.9422 - val_loss: 0.3180 - val_accuracy: 0.8954\n",
            "Epoch 23/25\n",
            "430/430 [==============================] - 2s 5ms/step - loss: 0.1654 - accuracy: 0.9443 - val_loss: 0.3184 - val_accuracy: 0.8946\n",
            "Epoch 24/25\n",
            "430/430 [==============================] - 2s 5ms/step - loss: 0.1627 - accuracy: 0.9458 - val_loss: 0.3173 - val_accuracy: 0.8940\n",
            "Epoch 25/25\n",
            "430/430 [==============================] - 2s 5ms/step - loss: 0.1610 - accuracy: 0.9463 - val_loss: 0.3167 - val_accuracy: 0.8932\n"
          ],
          "name": "stdout"
        }
      ]
    },
    {
      "cell_type": "code",
      "metadata": {
        "id": "FU-tek8_v3Bd",
        "colab_type": "code",
        "colab": {}
      },
      "source": [
        "layer=keras.layers.Dense(100, activation=\"elu\", kernel_initializer=\"he_normal\", kernel_regularizer=keras.regularizers.l2(0.001))"
      ],
      "execution_count": 0,
      "outputs": []
    },
    {
      "cell_type": "code",
      "metadata": {
        "id": "2VzPTlqxxRhR",
        "colab_type": "code",
        "colab": {
          "base_uri": "https://localhost:8080/",
          "height": 90
        },
        "outputId": "f3a9aa04-85f0-47f2-d18d-dff26dd7e24f"
      },
      "source": [
        "model = keras.models.Sequential([\n",
        "    keras.layers.Flatten(input_shape=[28, 28]),\n",
        "    keras.layers.Dense(300, activation=\"elu\",\n",
        "                       kernel_initializer=\"he_normal\",\n",
        "                       kernel_regularizer=keras.regularizers.l2(0.01)),\n",
        "    keras.layers.Dense(100, activation=\"elu\",\n",
        "                       kernel_initializer=\"he_normal\",\n",
        "                       kernel_regularizer=keras.regularizers.l2(0.01)),\n",
        "    keras.layers.Dense(10, activation=\"softmax\",\n",
        "                       kernel_regularizer=keras.regularizers.l2(0.01))\n",
        "])\n",
        "model.compile(loss=\"sparse_categorical_crossentropy\", optimizer=\"nadam\", metrics=[\"accuracy\"])\n",
        "n_epochs = 2\n",
        "history = model.fit(X_train_scaled, y_train, epochs=n_epochs,\n",
        "                    validation_data=(X_valid_scaled, y_valid))"
      ],
      "execution_count": 364,
      "outputs": [
        {
          "output_type": "stream",
          "text": [
            "Epoch 1/2\n",
            "1719/1719 [==============================] - 9s 5ms/step - loss: 1.5956 - accuracy: 0.8124 - val_loss: 0.7169 - val_accuracy: 0.8340\n",
            "Epoch 2/2\n",
            "1719/1719 [==============================] - 9s 5ms/step - loss: 0.7197 - accuracy: 0.8274 - val_loss: 0.6850 - val_accuracy: 0.8376\n"
          ],
          "name": "stdout"
        }
      ]
    },
    {
      "cell_type": "code",
      "metadata": {
        "id": "SS0B3sTOxcv5",
        "colab_type": "code",
        "colab": {
          "base_uri": "https://localhost:8080/",
          "height": 90
        },
        "outputId": "cc0f93a1-faa5-49eb-dea9-977ffb1ea812"
      },
      "source": [
        "from functools import partial\n",
        "\n",
        "RegularizedDense = partial(keras.layers.Dense,\n",
        "                           activation=\"elu\",\n",
        "                           kernel_initializer=\"he_normal\",\n",
        "                           kernel_regularizer=keras.regularizers.l2(0.01))\n",
        "\n",
        "model = keras.models.Sequential([\n",
        "    keras.layers.Flatten(input_shape=[28, 28]),\n",
        "    RegularizedDense(300),\n",
        "    RegularizedDense(100),\n",
        "    RegularizedDense(10, activation=\"softmax\")\n",
        "])\n",
        "model.compile(loss=\"sparse_categorical_crossentropy\", optimizer=\"nadam\", metrics=[\"accuracy\"])\n",
        "n_epochs = 2\n",
        "history = model.fit(X_train_scaled, y_train, epochs=n_epochs,\n",
        "                    validation_data=(X_valid_scaled, y_valid))"
      ],
      "execution_count": 365,
      "outputs": [
        {
          "output_type": "stream",
          "text": [
            "Epoch 1/2\n",
            "1719/1719 [==============================] - 9s 5ms/step - loss: 1.6313 - accuracy: 0.8113 - val_loss: 0.7218 - val_accuracy: 0.8310\n",
            "Epoch 2/2\n",
            "1719/1719 [==============================] - 9s 5ms/step - loss: 0.7187 - accuracy: 0.8273 - val_loss: 0.6826 - val_accuracy: 0.8382\n"
          ],
          "name": "stdout"
        }
      ]
    },
    {
      "cell_type": "code",
      "metadata": {
        "id": "yDRhAcJMxqAO",
        "colab_type": "code",
        "colab": {
          "base_uri": "https://localhost:8080/",
          "height": 90
        },
        "outputId": "506f6264-0b33-4028-90fb-6d1832571e5b"
      },
      "source": [
        "model = keras.models.Sequential([\n",
        "    keras.layers.Flatten(input_shape=[28, 28]),\n",
        "    keras.layers.Dropout(rate=0.2),\n",
        "    keras.layers.Dense(300, activation=\"elu\", kernel_initializer=\"he_normal\"),\n",
        "    keras.layers.Dropout(rate=0.2),\n",
        "    keras.layers.Dense(100, activation=\"elu\", kernel_initializer=\"he_normal\"),\n",
        "    keras.layers.Dropout(rate=0.2),\n",
        "    keras.layers.Dense(10, activation=\"softmax\")\n",
        "])\n",
        "model.compile(loss=\"sparse_categorical_crossentropy\", optimizer=\"nadam\", metrics=[\"accuracy\"])\n",
        "n_epochs = 2\n",
        "history = model.fit(X_train_scaled, y_train, epochs=n_epochs,\n",
        "                    validation_data=(X_valid_scaled, y_valid))"
      ],
      "execution_count": 369,
      "outputs": [
        {
          "output_type": "stream",
          "text": [
            "Epoch 1/2\n",
            "1719/1719 [==============================] - 9s 5ms/step - loss: 0.5838 - accuracy: 0.7997 - val_loss: 0.3730 - val_accuracy: 0.8644\n",
            "Epoch 2/2\n",
            "1719/1719 [==============================] - 9s 5ms/step - loss: 0.4209 - accuracy: 0.8442 - val_loss: 0.3396 - val_accuracy: 0.8718\n"
          ],
          "name": "stdout"
        }
      ]
    },
    {
      "cell_type": "code",
      "metadata": {
        "id": "F24tMSSMyp6o",
        "colab_type": "code",
        "colab": {}
      },
      "source": [
        "tf.random.set_seed(42)\n",
        "np.random.seed(42)"
      ],
      "execution_count": 0,
      "outputs": []
    },
    {
      "cell_type": "code",
      "metadata": {
        "id": "sYGrWYPLysdh",
        "colab_type": "code",
        "colab": {
          "base_uri": "https://localhost:8080/",
          "height": 745
        },
        "outputId": "58c08c91-ec60-4762-d592-8b7696faa8b6"
      },
      "source": [
        "model = keras.models.Sequential([\n",
        "    keras.layers.Flatten(input_shape=[28, 28]),\n",
        "    keras.layers.AlphaDropout(rate=0.2),\n",
        "    keras.layers.Dense(300, activation=\"selu\", kernel_initializer=\"lecun_normal\"),\n",
        "    keras.layers.AlphaDropout(rate=0.2),\n",
        "    keras.layers.Dense(100, activation=\"selu\", kernel_initializer=\"lecun_normal\"),\n",
        "    keras.layers.AlphaDropout(rate=0.2),\n",
        "    keras.layers.Dense(10, activation=\"softmax\")\n",
        "])\n",
        "optimizer = keras.optimizers.SGD(lr=0.01, momentum=0.9, nesterov=True)\n",
        "model.compile(loss=\"sparse_categorical_crossentropy\", optimizer=optimizer, metrics=[\"accuracy\"])\n",
        "n_epochs = 20\n",
        "history = model.fit(X_train_scaled, y_train, epochs=n_epochs,\n",
        "                    validation_data=(X_valid_scaled, y_valid))"
      ],
      "execution_count": 371,
      "outputs": [
        {
          "output_type": "stream",
          "text": [
            "Epoch 1/20\n",
            "1719/1719 [==============================] - 6s 3ms/step - loss: 0.6654 - accuracy: 0.7594 - val_loss: 0.5934 - val_accuracy: 0.8412\n",
            "Epoch 2/20\n",
            "1719/1719 [==============================] - 6s 3ms/step - loss: 0.5605 - accuracy: 0.7939 - val_loss: 0.5519 - val_accuracy: 0.8396\n",
            "Epoch 3/20\n",
            "1719/1719 [==============================] - 6s 4ms/step - loss: 0.5283 - accuracy: 0.8051 - val_loss: 0.4866 - val_accuracy: 0.8590\n",
            "Epoch 4/20\n",
            "1719/1719 [==============================] - 6s 4ms/step - loss: 0.5072 - accuracy: 0.8117 - val_loss: 0.4633 - val_accuracy: 0.8592\n",
            "Epoch 5/20\n",
            "1719/1719 [==============================] - 6s 3ms/step - loss: 0.4922 - accuracy: 0.8187 - val_loss: 0.4641 - val_accuracy: 0.8586\n",
            "Epoch 6/20\n",
            "1719/1719 [==============================] - 6s 3ms/step - loss: 0.4865 - accuracy: 0.8195 - val_loss: 0.4724 - val_accuracy: 0.8596\n",
            "Epoch 7/20\n",
            "1719/1719 [==============================] - 6s 3ms/step - loss: 0.4727 - accuracy: 0.8240 - val_loss: 0.4590 - val_accuracy: 0.8690\n",
            "Epoch 8/20\n",
            "1719/1719 [==============================] - 6s 3ms/step - loss: 0.4636 - accuracy: 0.8274 - val_loss: 0.4690 - val_accuracy: 0.8646\n",
            "Epoch 9/20\n",
            "1719/1719 [==============================] - 6s 3ms/step - loss: 0.4583 - accuracy: 0.8299 - val_loss: 0.4093 - val_accuracy: 0.8728\n",
            "Epoch 10/20\n",
            "1719/1719 [==============================] - 6s 3ms/step - loss: 0.4523 - accuracy: 0.8327 - val_loss: 0.4627 - val_accuracy: 0.8662\n",
            "Epoch 11/20\n",
            "1719/1719 [==============================] - 6s 3ms/step - loss: 0.4487 - accuracy: 0.8321 - val_loss: 0.4168 - val_accuracy: 0.8706\n",
            "Epoch 12/20\n",
            "1719/1719 [==============================] - 6s 3ms/step - loss: 0.4467 - accuracy: 0.8345 - val_loss: 0.5469 - val_accuracy: 0.8504\n",
            "Epoch 13/20\n",
            "1719/1719 [==============================] - 6s 3ms/step - loss: 0.4422 - accuracy: 0.8362 - val_loss: 0.4507 - val_accuracy: 0.8698\n",
            "Epoch 14/20\n",
            "1719/1719 [==============================] - 6s 3ms/step - loss: 0.4316 - accuracy: 0.8395 - val_loss: 0.4614 - val_accuracy: 0.8692\n",
            "Epoch 15/20\n",
            "1719/1719 [==============================] - 6s 3ms/step - loss: 0.4334 - accuracy: 0.8359 - val_loss: 0.4363 - val_accuracy: 0.8658\n",
            "Epoch 16/20\n",
            "1719/1719 [==============================] - 6s 3ms/step - loss: 0.4305 - accuracy: 0.8414 - val_loss: 0.4152 - val_accuracy: 0.8772\n",
            "Epoch 17/20\n",
            "1719/1719 [==============================] - 6s 3ms/step - loss: 0.4259 - accuracy: 0.8416 - val_loss: 0.5510 - val_accuracy: 0.8586\n",
            "Epoch 18/20\n",
            "1719/1719 [==============================] - 8s 5ms/step - loss: 0.4247 - accuracy: 0.8418 - val_loss: 0.4940 - val_accuracy: 0.8754\n",
            "Epoch 19/20\n",
            "1719/1719 [==============================] - 6s 3ms/step - loss: 0.4219 - accuracy: 0.8448 - val_loss: 0.4910 - val_accuracy: 0.8718\n",
            "Epoch 20/20\n",
            "1719/1719 [==============================] - 6s 3ms/step - loss: 0.4246 - accuracy: 0.8432 - val_loss: 0.4068 - val_accuracy: 0.8770\n"
          ],
          "name": "stdout"
        }
      ]
    },
    {
      "cell_type": "code",
      "metadata": {
        "id": "7O9QEmrYzRHj",
        "colab_type": "code",
        "colab": {
          "base_uri": "https://localhost:8080/",
          "height": 54
        },
        "outputId": "b115cd63-c141-482b-b995-6bf312b856be"
      },
      "source": [
        "model.evaluate(X_test_scaled, y_test)"
      ],
      "execution_count": 372,
      "outputs": [
        {
          "output_type": "stream",
          "text": [
            "313/313 [==============================] - 0s 1ms/step - loss: 0.4467 - accuracy: 0.8648\n"
          ],
          "name": "stdout"
        },
        {
          "output_type": "execute_result",
          "data": {
            "text/plain": [
              "[0.44666436314582825, 0.864799976348877]"
            ]
          },
          "metadata": {
            "tags": []
          },
          "execution_count": 372
        }
      ]
    },
    {
      "cell_type": "code",
      "metadata": {
        "id": "83GExXFgzVPi",
        "colab_type": "code",
        "colab": {
          "base_uri": "https://localhost:8080/",
          "height": 54
        },
        "outputId": "59825aa3-cf5e-4fee-9131-75884ca9d72a"
      },
      "source": [
        "model.evaluate(X_train_scaled, y_train)"
      ],
      "execution_count": 373,
      "outputs": [
        {
          "output_type": "stream",
          "text": [
            "1719/1719 [==============================] - 3s 1ms/step - loss: 0.3318 - accuracy: 0.8873\n"
          ],
          "name": "stdout"
        },
        {
          "output_type": "execute_result",
          "data": {
            "text/plain": [
              "[0.33179745078086853, 0.8873090744018555]"
            ]
          },
          "metadata": {
            "tags": []
          },
          "execution_count": 373
        }
      ]
    },
    {
      "cell_type": "code",
      "metadata": {
        "id": "CeiQEUGGziG_",
        "colab_type": "code",
        "colab": {
          "base_uri": "https://localhost:8080/",
          "height": 35
        },
        "outputId": "2e1f1c7a-f936-4401-b049-104f231b849a"
      },
      "source": [
        "history = model.fit(X_train_scaled, y_train)"
      ],
      "execution_count": 374,
      "outputs": [
        {
          "output_type": "stream",
          "text": [
            "1719/1719 [==============================] - 5s 3ms/step - loss: 0.4168 - accuracy: 0.8454\n"
          ],
          "name": "stdout"
        }
      ]
    },
    {
      "cell_type": "code",
      "metadata": {
        "id": "dYcVT2aezpZZ",
        "colab_type": "code",
        "colab": {}
      },
      "source": [
        "tf.random.set_seed(42)\n",
        "np.random.seed(42)"
      ],
      "execution_count": 0,
      "outputs": []
    },
    {
      "cell_type": "code",
      "metadata": {
        "id": "nDdQfyXSzvpn",
        "colab_type": "code",
        "colab": {}
      },
      "source": [
        "y_probas = np.stack([model(X_test_scaled, training=True)\n",
        "                     for sample in range(100)])\n",
        "y_proba = y_probas.mean(axis=0)\n",
        "y_std = y_probas.std(axis=0)"
      ],
      "execution_count": 0,
      "outputs": []
    },
    {
      "cell_type": "code",
      "metadata": {
        "id": "jS83JK8jz-mA",
        "colab_type": "code",
        "colab": {
          "base_uri": "https://localhost:8080/",
          "height": 35
        },
        "outputId": "8ca9ea01-21fd-4e6a-971a-a4dd43415c19"
      },
      "source": [
        "np.round(model.predict(X_test_scaled[:1]), 2)"
      ],
      "execution_count": 378,
      "outputs": [
        {
          "output_type": "execute_result",
          "data": {
            "text/plain": [
              "array([[0., 0., 0., 0., 0., 0., 0., 0., 0., 1.]], dtype=float32)"
            ]
          },
          "metadata": {
            "tags": []
          },
          "execution_count": 378
        }
      ]
    },
    {
      "cell_type": "code",
      "metadata": {
        "id": "Zye8DI4a0FMA",
        "colab_type": "code",
        "colab": {
          "base_uri": "https://localhost:8080/",
          "height": 1000
        },
        "outputId": "c8ad3147-435b-4af2-cd22-4cba05ae1465"
      },
      "source": [
        "np.round(y_probas[:, :1], 2)"
      ],
      "execution_count": 379,
      "outputs": [
        {
          "output_type": "execute_result",
          "data": {
            "text/plain": [
              "array([[[0.  , 0.  , 0.  , 0.  , 0.  , 0.18, 0.  , 0.21, 0.  , 0.62]],\n",
              "\n",
              "       [[0.  , 0.  , 0.  , 0.  , 0.  , 0.01, 0.  , 0.78, 0.  , 0.22]],\n",
              "\n",
              "       [[0.  , 0.  , 0.  , 0.  , 0.  , 0.29, 0.  , 0.  , 0.  , 0.71]],\n",
              "\n",
              "       [[0.  , 0.  , 0.  , 0.  , 0.  , 0.02, 0.  , 0.11, 0.  , 0.86]],\n",
              "\n",
              "       [[0.  , 0.  , 0.  , 0.  , 0.  , 0.18, 0.  , 0.12, 0.  , 0.7 ]],\n",
              "\n",
              "       [[0.  , 0.  , 0.  , 0.  , 0.  , 0.  , 0.  , 0.41, 0.  , 0.59]],\n",
              "\n",
              "       [[0.  , 0.  , 0.  , 0.  , 0.  , 0.2 , 0.  , 0.12, 0.  , 0.68]],\n",
              "\n",
              "       [[0.  , 0.  , 0.  , 0.  , 0.  , 0.  , 0.  , 0.24, 0.  , 0.75]],\n",
              "\n",
              "       [[0.  , 0.  , 0.  , 0.  , 0.  , 0.68, 0.  , 0.04, 0.  , 0.28]],\n",
              "\n",
              "       [[0.  , 0.  , 0.  , 0.  , 0.  , 0.07, 0.  , 0.06, 0.  , 0.88]],\n",
              "\n",
              "       [[0.  , 0.  , 0.  , 0.  , 0.  , 0.  , 0.  , 0.05, 0.  , 0.95]],\n",
              "\n",
              "       [[0.  , 0.  , 0.  , 0.  , 0.  , 0.42, 0.  , 0.  , 0.  , 0.58]],\n",
              "\n",
              "       [[0.  , 0.  , 0.  , 0.  , 0.  , 0.79, 0.  , 0.06, 0.  , 0.16]],\n",
              "\n",
              "       [[0.  , 0.  , 0.  , 0.  , 0.  , 0.15, 0.  , 0.08, 0.  , 0.77]],\n",
              "\n",
              "       [[0.  , 0.  , 0.  , 0.  , 0.  , 0.02, 0.  , 0.02, 0.  , 0.96]],\n",
              "\n",
              "       [[0.  , 0.  , 0.  , 0.  , 0.  , 0.21, 0.  , 0.04, 0.  , 0.75]],\n",
              "\n",
              "       [[0.  , 0.  , 0.  , 0.  , 0.  , 0.03, 0.  , 0.01, 0.  , 0.96]],\n",
              "\n",
              "       [[0.  , 0.  , 0.  , 0.  , 0.  , 0.01, 0.  , 0.04, 0.  , 0.96]],\n",
              "\n",
              "       [[0.  , 0.  , 0.  , 0.  , 0.  , 0.01, 0.  , 0.63, 0.  , 0.36]],\n",
              "\n",
              "       [[0.  , 0.  , 0.  , 0.  , 0.  , 0.33, 0.  , 0.06, 0.  , 0.61]],\n",
              "\n",
              "       [[0.  , 0.  , 0.  , 0.  , 0.  , 0.24, 0.  , 0.03, 0.  , 0.73]],\n",
              "\n",
              "       [[0.  , 0.  , 0.  , 0.  , 0.  , 0.89, 0.  , 0.01, 0.  , 0.09]],\n",
              "\n",
              "       [[0.  , 0.  , 0.  , 0.  , 0.  , 0.  , 0.  , 0.  , 0.  , 1.  ]],\n",
              "\n",
              "       [[0.  , 0.  , 0.  , 0.  , 0.  , 0.  , 0.  , 0.03, 0.  , 0.97]],\n",
              "\n",
              "       [[0.  , 0.  , 0.  , 0.  , 0.  , 0.01, 0.  , 0.  , 0.  , 0.99]],\n",
              "\n",
              "       [[0.  , 0.  , 0.  , 0.  , 0.  , 0.4 , 0.  , 0.36, 0.  , 0.24]],\n",
              "\n",
              "       [[0.  , 0.  , 0.  , 0.  , 0.  , 0.07, 0.  , 0.28, 0.  , 0.65]],\n",
              "\n",
              "       [[0.  , 0.  , 0.  , 0.  , 0.  , 0.43, 0.  , 0.06, 0.  , 0.51]],\n",
              "\n",
              "       [[0.  , 0.  , 0.  , 0.  , 0.  , 0.6 , 0.  , 0.01, 0.  , 0.39]],\n",
              "\n",
              "       [[0.  , 0.  , 0.  , 0.  , 0.  , 0.15, 0.  , 0.64, 0.  , 0.22]],\n",
              "\n",
              "       [[0.  , 0.  , 0.  , 0.  , 0.  , 0.19, 0.  , 0.01, 0.  , 0.8 ]],\n",
              "\n",
              "       [[0.  , 0.  , 0.  , 0.  , 0.  , 0.12, 0.  , 0.01, 0.  , 0.87]],\n",
              "\n",
              "       [[0.  , 0.  , 0.  , 0.  , 0.  , 0.11, 0.  , 0.03, 0.  , 0.86]],\n",
              "\n",
              "       [[0.  , 0.  , 0.  , 0.  , 0.  , 0.89, 0.  , 0.05, 0.  , 0.06]],\n",
              "\n",
              "       [[0.  , 0.  , 0.  , 0.  , 0.  , 0.04, 0.  , 0.02, 0.  , 0.94]],\n",
              "\n",
              "       [[0.  , 0.  , 0.  , 0.  , 0.  , 0.18, 0.  , 0.37, 0.  , 0.45]],\n",
              "\n",
              "       [[0.  , 0.  , 0.  , 0.  , 0.  , 0.  , 0.  , 0.  , 0.  , 1.  ]],\n",
              "\n",
              "       [[0.  , 0.  , 0.  , 0.  , 0.  , 0.31, 0.  , 0.08, 0.  , 0.61]],\n",
              "\n",
              "       [[0.  , 0.  , 0.  , 0.  , 0.  , 0.12, 0.  , 0.07, 0.  , 0.81]],\n",
              "\n",
              "       [[0.  , 0.  , 0.  , 0.  , 0.  , 0.61, 0.  , 0.01, 0.  , 0.39]],\n",
              "\n",
              "       [[0.  , 0.  , 0.  , 0.  , 0.  , 0.03, 0.  , 0.01, 0.  , 0.96]],\n",
              "\n",
              "       [[0.  , 0.  , 0.  , 0.  , 0.  , 0.  , 0.  , 0.  , 0.  , 1.  ]],\n",
              "\n",
              "       [[0.  , 0.  , 0.  , 0.  , 0.  , 0.33, 0.  , 0.06, 0.  , 0.62]],\n",
              "\n",
              "       [[0.  , 0.  , 0.  , 0.  , 0.  , 0.  , 0.  , 0.01, 0.  , 0.99]],\n",
              "\n",
              "       [[0.  , 0.  , 0.  , 0.  , 0.  , 0.  , 0.  , 0.03, 0.  , 0.97]],\n",
              "\n",
              "       [[0.  , 0.  , 0.  , 0.  , 0.  , 0.  , 0.  , 0.  , 0.  , 1.  ]],\n",
              "\n",
              "       [[0.  , 0.  , 0.  , 0.  , 0.  , 0.05, 0.  , 0.14, 0.  , 0.81]],\n",
              "\n",
              "       [[0.  , 0.  , 0.  , 0.  , 0.  , 0.01, 0.  , 0.25, 0.  , 0.74]],\n",
              "\n",
              "       [[0.  , 0.  , 0.  , 0.  , 0.  , 0.  , 0.  , 0.19, 0.  , 0.81]],\n",
              "\n",
              "       [[0.  , 0.  , 0.  , 0.  , 0.  , 0.01, 0.  , 0.13, 0.  , 0.86]],\n",
              "\n",
              "       [[0.  , 0.  , 0.  , 0.  , 0.  , 0.48, 0.  , 0.17, 0.  , 0.35]],\n",
              "\n",
              "       [[0.  , 0.  , 0.  , 0.  , 0.  , 0.39, 0.  , 0.09, 0.  , 0.51]],\n",
              "\n",
              "       [[0.  , 0.  , 0.  , 0.  , 0.  , 0.  , 0.  , 0.  , 0.  , 1.  ]],\n",
              "\n",
              "       [[0.  , 0.  , 0.  , 0.  , 0.  , 0.15, 0.  , 0.01, 0.  , 0.84]],\n",
              "\n",
              "       [[0.  , 0.  , 0.  , 0.  , 0.  , 0.23, 0.  , 0.01, 0.  , 0.76]],\n",
              "\n",
              "       [[0.  , 0.  , 0.  , 0.  , 0.  , 0.  , 0.  , 0.13, 0.  , 0.87]],\n",
              "\n",
              "       [[0.  , 0.  , 0.  , 0.  , 0.  , 0.01, 0.  , 0.26, 0.  , 0.73]],\n",
              "\n",
              "       [[0.  , 0.  , 0.  , 0.  , 0.  , 0.05, 0.  , 0.58, 0.  , 0.36]],\n",
              "\n",
              "       [[0.  , 0.  , 0.  , 0.  , 0.  , 0.01, 0.  , 0.42, 0.  , 0.57]],\n",
              "\n",
              "       [[0.  , 0.  , 0.  , 0.  , 0.  , 0.02, 0.  , 0.06, 0.  , 0.92]],\n",
              "\n",
              "       [[0.  , 0.  , 0.  , 0.  , 0.  , 0.34, 0.  , 0.06, 0.  , 0.6 ]],\n",
              "\n",
              "       [[0.  , 0.  , 0.  , 0.  , 0.  , 0.05, 0.  , 0.02, 0.  , 0.93]],\n",
              "\n",
              "       [[0.  , 0.  , 0.  , 0.  , 0.  , 0.32, 0.  , 0.04, 0.  , 0.64]],\n",
              "\n",
              "       [[0.  , 0.  , 0.  , 0.  , 0.  , 0.01, 0.  , 0.05, 0.  , 0.95]],\n",
              "\n",
              "       [[0.  , 0.  , 0.  , 0.  , 0.  , 0.5 , 0.  , 0.02, 0.  , 0.48]],\n",
              "\n",
              "       [[0.  , 0.  , 0.  , 0.  , 0.  , 0.25, 0.  , 0.16, 0.  , 0.59]],\n",
              "\n",
              "       [[0.  , 0.  , 0.  , 0.  , 0.  , 0.13, 0.  , 0.08, 0.  , 0.79]],\n",
              "\n",
              "       [[0.  , 0.  , 0.  , 0.  , 0.  , 0.  , 0.  , 0.01, 0.  , 0.98]],\n",
              "\n",
              "       [[0.  , 0.  , 0.  , 0.  , 0.  , 0.05, 0.  , 0.03, 0.  , 0.91]],\n",
              "\n",
              "       [[0.  , 0.  , 0.  , 0.  , 0.  , 0.04, 0.  , 0.08, 0.  , 0.88]],\n",
              "\n",
              "       [[0.  , 0.  , 0.  , 0.  , 0.  , 0.01, 0.  , 0.  , 0.  , 0.99]],\n",
              "\n",
              "       [[0.  , 0.  , 0.  , 0.  , 0.  , 0.01, 0.  , 0.03, 0.  , 0.96]],\n",
              "\n",
              "       [[0.  , 0.  , 0.  , 0.  , 0.  , 0.11, 0.  , 0.06, 0.  , 0.83]],\n",
              "\n",
              "       [[0.  , 0.  , 0.  , 0.  , 0.  , 0.  , 0.  , 0.01, 0.  , 0.98]],\n",
              "\n",
              "       [[0.  , 0.  , 0.  , 0.  , 0.  , 0.03, 0.  , 0.02, 0.  , 0.95]],\n",
              "\n",
              "       [[0.  , 0.  , 0.  , 0.  , 0.  , 0.  , 0.  , 0.02, 0.  , 0.98]],\n",
              "\n",
              "       [[0.  , 0.  , 0.  , 0.  , 0.  , 0.03, 0.  , 0.02, 0.  , 0.95]],\n",
              "\n",
              "       [[0.  , 0.  , 0.  , 0.  , 0.  , 0.33, 0.  , 0.15, 0.  , 0.52]],\n",
              "\n",
              "       [[0.  , 0.  , 0.  , 0.  , 0.  , 0.01, 0.  , 0.02, 0.  , 0.97]],\n",
              "\n",
              "       [[0.  , 0.  , 0.  , 0.  , 0.  , 0.  , 0.  , 0.02, 0.  , 0.97]],\n",
              "\n",
              "       [[0.  , 0.  , 0.  , 0.  , 0.  , 0.  , 0.  , 0.18, 0.  , 0.81]],\n",
              "\n",
              "       [[0.  , 0.  , 0.  , 0.  , 0.  , 0.21, 0.  , 0.01, 0.  , 0.78]],\n",
              "\n",
              "       [[0.  , 0.  , 0.  , 0.  , 0.  , 0.  , 0.  , 0.  , 0.  , 1.  ]],\n",
              "\n",
              "       [[0.  , 0.  , 0.  , 0.  , 0.  , 0.01, 0.  , 0.01, 0.  , 0.98]],\n",
              "\n",
              "       [[0.  , 0.  , 0.  , 0.  , 0.  , 0.02, 0.  , 0.06, 0.  , 0.91]],\n",
              "\n",
              "       [[0.  , 0.  , 0.  , 0.  , 0.  , 0.36, 0.  , 0.04, 0.  , 0.61]],\n",
              "\n",
              "       [[0.  , 0.  , 0.  , 0.  , 0.  , 0.96, 0.  , 0.  , 0.  , 0.04]],\n",
              "\n",
              "       [[0.  , 0.  , 0.  , 0.  , 0.  , 0.09, 0.  , 0.01, 0.  , 0.9 ]],\n",
              "\n",
              "       [[0.  , 0.  , 0.  , 0.  , 0.  , 0.02, 0.  , 0.02, 0.  , 0.96]],\n",
              "\n",
              "       [[0.  , 0.  , 0.  , 0.  , 0.  , 0.01, 0.  , 0.  , 0.  , 0.99]],\n",
              "\n",
              "       [[0.  , 0.  , 0.  , 0.  , 0.  , 0.01, 0.  , 0.  , 0.  , 0.98]],\n",
              "\n",
              "       [[0.  , 0.  , 0.  , 0.  , 0.  , 0.02, 0.  , 0.06, 0.  , 0.91]],\n",
              "\n",
              "       [[0.  , 0.  , 0.  , 0.  , 0.  , 0.91, 0.  , 0.05, 0.  , 0.03]],\n",
              "\n",
              "       [[0.  , 0.  , 0.  , 0.  , 0.  , 0.32, 0.  , 0.03, 0.  , 0.65]],\n",
              "\n",
              "       [[0.  , 0.  , 0.  , 0.  , 0.  , 0.28, 0.  , 0.04, 0.  , 0.68]],\n",
              "\n",
              "       [[0.  , 0.  , 0.  , 0.  , 0.  , 0.01, 0.  , 0.02, 0.  , 0.97]],\n",
              "\n",
              "       [[0.  , 0.  , 0.  , 0.  , 0.  , 0.02, 0.  , 0.02, 0.  , 0.95]],\n",
              "\n",
              "       [[0.  , 0.  , 0.  , 0.  , 0.  , 0.01, 0.  , 0.  , 0.  , 0.99]],\n",
              "\n",
              "       [[0.  , 0.  , 0.  , 0.  , 0.  , 0.74, 0.  , 0.01, 0.  , 0.25]],\n",
              "\n",
              "       [[0.  , 0.  , 0.  , 0.  , 0.  , 0.32, 0.  , 0.01, 0.  , 0.67]]],\n",
              "      dtype=float32)"
            ]
          },
          "metadata": {
            "tags": []
          },
          "execution_count": 379
        }
      ]
    },
    {
      "cell_type": "code",
      "metadata": {
        "id": "RhemKgHH0Jqq",
        "colab_type": "code",
        "colab": {
          "base_uri": "https://localhost:8080/",
          "height": 54
        },
        "outputId": "d1e27c53-76c1-43c1-d179-79e3a8afd81d"
      },
      "source": [
        "np.round(y_proba[:1], 2)"
      ],
      "execution_count": 380,
      "outputs": [
        {
          "output_type": "execute_result",
          "data": {
            "text/plain": [
              "array([[0.  , 0.  , 0.  , 0.  , 0.  , 0.17, 0.  , 0.09, 0.  , 0.74]],\n",
              "      dtype=float32)"
            ]
          },
          "metadata": {
            "tags": []
          },
          "execution_count": 380
        }
      ]
    },
    {
      "cell_type": "code",
      "metadata": {
        "id": "dS4jNqwu0Pu7",
        "colab_type": "code",
        "colab": {
          "base_uri": "https://localhost:8080/",
          "height": 54
        },
        "outputId": "63e192ba-bc76-4b45-e927-7ae6136d9890"
      },
      "source": [
        "y_std = y_probas.std(axis=0)\n",
        "np.round(y_std[:1], 2)"
      ],
      "execution_count": 381,
      "outputs": [
        {
          "output_type": "execute_result",
          "data": {
            "text/plain": [
              "array([[0.  , 0.  , 0.  , 0.  , 0.  , 0.24, 0.  , 0.15, 0.  , 0.26]],\n",
              "      dtype=float32)"
            ]
          },
          "metadata": {
            "tags": []
          },
          "execution_count": 381
        }
      ]
    },
    {
      "cell_type": "code",
      "metadata": {
        "id": "eYOxQci70Wkz",
        "colab_type": "code",
        "colab": {}
      },
      "source": [
        "y_pred = np.argmax(y_proba, axis=1)"
      ],
      "execution_count": 0,
      "outputs": []
    },
    {
      "cell_type": "code",
      "metadata": {
        "id": "LeMh9pmb02LJ",
        "colab_type": "code",
        "colab": {
          "base_uri": "https://localhost:8080/",
          "height": 35
        },
        "outputId": "acce3166-d8f1-48dc-f82e-b5bde9769562"
      },
      "source": [
        "y_pred"
      ],
      "execution_count": 385,
      "outputs": [
        {
          "output_type": "execute_result",
          "data": {
            "text/plain": [
              "array([9, 2, 1, ..., 8, 1, 5])"
            ]
          },
          "metadata": {
            "tags": []
          },
          "execution_count": 385
        }
      ]
    },
    {
      "cell_type": "code",
      "metadata": {
        "id": "UOYhHTPk0alj",
        "colab_type": "code",
        "colab": {
          "base_uri": "https://localhost:8080/",
          "height": 35
        },
        "outputId": "3646bfa2-8bbb-4b86-b763-f92c0e114de7"
      },
      "source": [
        "accuracy = np.sum(y_pred == y_test) / len(y_test)\n",
        "accuracy"
      ],
      "execution_count": 383,
      "outputs": [
        {
          "output_type": "execute_result",
          "data": {
            "text/plain": [
              "0.868"
            ]
          },
          "metadata": {
            "tags": []
          },
          "execution_count": 383
        }
      ]
    },
    {
      "cell_type": "code",
      "metadata": {
        "id": "YF9QbPzc0fmn",
        "colab_type": "code",
        "colab": {}
      },
      "source": [
        "class MCDropout(keras.layers.Dropout):\n",
        "    def call(self, inputs):\n",
        "        return super().call(inputs, training=True)\n",
        "\n",
        "class MCAlphaDropout(keras.layers.AlphaDropout):\n",
        "    def call(self, inputs):\n",
        "        return super().call(inputs, training=True)"
      ],
      "execution_count": 0,
      "outputs": []
    },
    {
      "cell_type": "code",
      "metadata": {
        "id": "jg-P4y6f05lj",
        "colab_type": "code",
        "colab": {}
      },
      "source": [
        "tf.random.set_seed(42)\n",
        "np.random.seed(42)\n",
        "mc_model = keras.models.Sequential([\n",
        "    MCAlphaDropout(layer.rate) if isinstance(layer, keras.layers.AlphaDropout) else layer\n",
        "    for layer in model.layers\n",
        "])"
      ],
      "execution_count": 0,
      "outputs": []
    },
    {
      "cell_type": "code",
      "metadata": {
        "id": "Rmxc6MCu1LZc",
        "colab_type": "code",
        "colab": {}
      },
      "source": [
        "optimizer = keras.optimizers.SGD(lr=0.01, momentum=0.9, nesterov=True)\n",
        "mc_model.compile(loss=\"sparse_categorical_crossentropy\", optimizer=optimizer, metrics=[\"accuracy\"])\n"
      ],
      "execution_count": 0,
      "outputs": []
    },
    {
      "cell_type": "code",
      "metadata": {
        "id": "oI6K9BmX1PRY",
        "colab_type": "code",
        "colab": {}
      },
      "source": [
        "mc_model.set_weights(model.get_weights())"
      ],
      "execution_count": 0,
      "outputs": []
    },
    {
      "cell_type": "code",
      "metadata": {
        "id": "DYouTyxo1Yaq",
        "colab_type": "code",
        "colab": {
          "base_uri": "https://localhost:8080/",
          "height": 54
        },
        "outputId": "ff46544a-f2e5-4e93-bfae-026e04d0cf91"
      },
      "source": [
        "np.round(np.mean([mc_model.predict(X_test_scaled[:1]) for sample in range(100)], axis=0), 2)"
      ],
      "execution_count": 390,
      "outputs": [
        {
          "output_type": "execute_result",
          "data": {
            "text/plain": [
              "array([[0.  , 0.  , 0.  , 0.  , 0.  , 0.18, 0.  , 0.14, 0.  , 0.68]],\n",
              "      dtype=float32)"
            ]
          },
          "metadata": {
            "tags": []
          },
          "execution_count": 390
        }
      ]
    },
    {
      "cell_type": "code",
      "metadata": {
        "id": "4aqEzjEI1d5o",
        "colab_type": "code",
        "colab": {}
      },
      "source": [
        "layer = keras.layers.Dense(100, activation=\"selu\", kernel_initializer=\"lecun_normal\",\n",
        "                           kernel_constraint=keras.constraints.max_norm(1.))"
      ],
      "execution_count": 0,
      "outputs": []
    },
    {
      "cell_type": "code",
      "metadata": {
        "id": "dxyVZb6a1ilu",
        "colab_type": "code",
        "colab": {
          "base_uri": "https://localhost:8080/",
          "height": 90
        },
        "outputId": "5158dcfb-a228-4a31-9121-f79ce3a0abec"
      },
      "source": [
        "MaxNormDense = partial(keras.layers.Dense,\n",
        "                       activation=\"selu\", kernel_initializer=\"lecun_normal\",\n",
        "                       kernel_constraint=keras.constraints.max_norm(1.))\n",
        "\n",
        "model = keras.models.Sequential([\n",
        "    keras.layers.Flatten(input_shape=[28, 28]),\n",
        "    MaxNormDense(300),\n",
        "    MaxNormDense(100),\n",
        "    keras.layers.Dense(10, activation=\"softmax\")\n",
        "])\n",
        "model.compile(loss=\"sparse_categorical_crossentropy\", optimizer=\"nadam\", metrics=[\"accuracy\"])\n",
        "n_epochs = 2\n",
        "history = model.fit(X_train_scaled, y_train, epochs=n_epochs,\n",
        "                    validation_data=(X_valid_scaled, y_valid))"
      ],
      "execution_count": 392,
      "outputs": [
        {
          "output_type": "stream",
          "text": [
            "Epoch 1/2\n",
            "1719/1719 [==============================] - 9s 5ms/step - loss: 0.4738 - accuracy: 0.8336 - val_loss: 0.3810 - val_accuracy: 0.8608\n",
            "Epoch 2/2\n",
            "1719/1719 [==============================] - 8s 5ms/step - loss: 0.3543 - accuracy: 0.8711 - val_loss: 0.3736 - val_accuracy: 0.8692\n"
          ],
          "name": "stdout"
        }
      ]
    }
  ]
}